{
 "cells": [
  {
   "attachments": {},
   "cell_type": "markdown",
   "metadata": {},
   "source": [
    "# Purpose"
   ]
  },
  {
   "attachments": {},
   "cell_type": "markdown",
   "metadata": {},
   "source": [
    "This notebook demonstrates the model experimentation and finalization. It covers EDA, outlier treatment, transformation, training, model evaluation and comparison across models."
   ]
  },
  {
   "attachments": {},
   "cell_type": "markdown",
   "metadata": {},
   "source": [
    "## Imports"
   ]
  },
  {
   "cell_type": "code",
   "execution_count": 1,
   "metadata": {},
   "outputs": [],
   "source": [
    "import os\n",
    "import os.path as op\n",
    "import shutil\n",
    "\n",
    "# standard third party imports\n",
    "import numpy as np\n",
    "import pandas as pd\n",
    "from matplotlib import pyplot as plt\n",
    "from sklearn.pipeline import Pipeline\n",
    "from sklearn.feature_selection import SelectFromModel\n",
    "from sklearn.model_selection import GridSearchCV\n",
    "from sklearn.preprocessing import FunctionTransformer\n",
    "from sklearn.compose import ColumnTransformer\n",
    "\n",
    "# impute missing values\n",
    "from sklearn.experimental import enable_iterative_imputer  # noqa\n",
    "from sklearn.impute import KNNImputer, IterativeImputer, SimpleImputer\n",
    "from sklearn.tree import DecisionTreeRegressor\n",
    "from category_encoders import TargetEncoder\n"
   ]
  },
  {
   "cell_type": "code",
   "execution_count": 2,
   "metadata": {},
   "outputs": [
    {
     "name": "stdout",
     "output_type": "stream",
     "text": [
      "The autoreload extension is already loaded. To reload it, use:\n",
      "  %reload_ext autoreload\n"
     ]
    }
   ],
   "source": [
    "%load_ext autoreload\n",
    "%autoreload 2"
   ]
  },
  {
   "cell_type": "code",
   "execution_count": 3,
   "metadata": {},
   "outputs": [],
   "source": [
    "import warnings\n",
    "from numba import NumbaDeprecationWarning\n",
    "\n",
    "warnings.filterwarnings(\n",
    "    \"ignore\",\n",
    "    message=\"pandas.Int64Index is deprecated and will be removed from pandas in a future version. Use pandas.Index with the appropriate dtype instead.\",\n",
    "    category=FutureWarning,\n",
    ")\n",
    "warnings.filterwarnings(\n",
    "    \"ignore\",\n",
    "    message=\"pandas.Float64Index is deprecated and will be removed from pandas in a future version. Use pandas.Index with the appropriate dtype instead.\",\n",
    "    category=FutureWarning,\n",
    ")\n",
    "warnings.filterwarnings(\"ignore\", category=NumbaDeprecationWarning)"
   ]
  },
  {
   "cell_type": "code",
   "execution_count": 4,
   "metadata": {},
   "outputs": [],
   "source": [
    "# standard code-template imports\n",
    "from ta_lib.core.api import (\n",
    "    create_context, get_dataframe, get_feature_names_from_column_transformer, string_cleaning,\n",
    "    get_package_path, display_as_tabs, save_pipeline, load_pipeline, initialize_environment,\n",
    "    load_dataset, save_dataset, DEFAULT_ARTIFACTS_PATH\n",
    ")\n",
    "\n",
    "import ta_lib.eda.api as eda\n",
    "from xgboost import XGBRegressor\n",
    "from ta_lib.regression.api import SKLStatsmodelOLS\n",
    "from ta_lib.regression.api import RegressionComparison, RegressionReport\n",
    "import ta_lib.reports.api as reports\n",
    "from ta_lib.data_processing.api import Outlier\n",
    "\n",
    "initialize_environment(debug=False, hide_warnings=True)"
   ]
  },
  {
   "attachments": {},
   "cell_type": "markdown",
   "metadata": {},
   "source": [
    "# Initialization"
   ]
  },
  {
   "cell_type": "code",
   "execution_count": 5,
   "metadata": {},
   "outputs": [],
   "source": [
    "artifacts_folder = DEFAULT_ARTIFACTS_PATH"
   ]
  },
  {
   "cell_type": "code",
   "execution_count": 6,
   "metadata": {},
   "outputs": [],
   "source": [
    "config_path = op.join('conf', 'config.yml')\n",
    "context = create_context(config_path)"
   ]
  },
  {
   "attachments": {},
   "cell_type": "markdown",
   "metadata": {},
   "source": [
    "# 3 Feature Engineering\n",
    "\n",
    "The focus here is the `Pipeline` and not the model. Though the model would inform the pipeline that is needed to train the model, our focus is to set it up in such a way that it can be saved/loaded, tweaked for different model choices and so on."
   ]
  },
  {
   "attachments": {},
   "cell_type": "markdown",
   "metadata": {},
   "source": [
    "## 3.1 Read the Train and Test Data"
   ]
  },
  {
   "cell_type": "code",
   "execution_count": 7,
   "metadata": {},
   "outputs": [
    {
     "name": "stdout",
     "output_type": "stream",
     "text": [
      "(16512, 12) (16512, 1)\n",
      "(4128, 12) (4128, 1)\n"
     ]
    }
   ],
   "source": [
    "\n",
    "train_X = load_dataset(context, 'train/housing/features')\n",
    "train_y = load_dataset(context, 'train/housing/target')\n",
    "print(train_X.shape, train_y.shape)\n",
    "\n",
    "test_X = load_dataset(context, 'test/housing/features')\n",
    "test_y = load_dataset(context, 'test/housing/target')\n",
    "print(test_X.shape, test_y.shape)"
   ]
  },
  {
   "cell_type": "markdown",
   "metadata": {},
   "source": [
    "## 3.2 Feature Engineering Pipelines\n"
   ]
  },
  {
   "cell_type": "markdown",
   "metadata": {},
   "source": [
    "**Dev NOTES**\n",
    "\n",
    "For Feature Engineering and Model Building sklearn.pipeline.Pipeline are leveraged because of the following advantages\n",
    "<details>\n",
    "    \n",
    "1. It helps in automating workflows and are easier to read and comprehend.\n",
    "2. Right Sequence can be ensured and (for example always encodes before imputing)\n",
    "3. Reproducibility is very convenient with pipelines\n",
    "4. Pipelines help you prevent data leakage in your test data\n",
    "5. Code is near implementation ready"
   ]
  },
  {
   "cell_type": "markdown",
   "metadata": {},
   "source": [
    "#### General Steps in the Feature Transformation are as follows\n",
    " - Outlier Treatment\n",
    " - Encoding of Categorical Columns\n",
    " - Missing Values Imputation"
   ]
  },
  {
   "cell_type": "code",
   "execution_count": 91,
   "metadata": {},
   "outputs": [
    {
     "data": {
      "text/plain": [
       "Index(['longitude', 'latitude', 'housing_median_age', 'total_rooms',\n",
       "       'total_bedrooms', 'population', 'households', 'median_income',\n",
       "       'rooms_per_household', 'bedrooms_per_room', 'population_per_household'],\n",
       "      dtype='object')"
      ]
     },
     "execution_count": 91,
     "metadata": {},
     "output_type": "execute_result"
    }
   ],
   "source": [
    "# collecting different types of columns for transformations\n",
    "cat_columns = train_X.select_dtypes('object').columns\n",
    "num_columns = train_X.select_dtypes('number').columns\n",
    "num_columns"
   ]
  },
  {
   "attachments": {},
   "cell_type": "markdown",
   "metadata": {},
   "source": [
    "#### Outlier Handling\n",
    "- A Custom Transformer is used to handle outliers. It is not included as part of the pipeline as outliers handling are optional for test data\n",
    "- An option to either drop or cap the outliers can be passed during the transform call\n",
    "- If we want to treat outliers for some columns them we can pass cols argument to the Transformer\n",
    "- This will go into production code"
   ]
  },
  {
   "cell_type": "code",
   "execution_count": 107,
   "metadata": {},
   "outputs": [
    {
     "name": "stdout",
     "output_type": "stream",
     "text": [
      "0\n"
     ]
    },
    {
     "data": {
      "text/html": [
       "<div>\n",
       "<style scoped>\n",
       "    .dataframe tbody tr th:only-of-type {\n",
       "        vertical-align: middle;\n",
       "    }\n",
       "\n",
       "    .dataframe tbody tr th {\n",
       "        vertical-align: top;\n",
       "    }\n",
       "\n",
       "    .dataframe thead th {\n",
       "        text-align: right;\n",
       "    }\n",
       "</style>\n",
       "<table border=\"1\" class=\"dataframe\">\n",
       "  <thead>\n",
       "    <tr style=\"text-align: right;\">\n",
       "      <th></th>\n",
       "      <th>longitude</th>\n",
       "      <th>latitude</th>\n",
       "      <th>housing_median_age</th>\n",
       "      <th>total_rooms</th>\n",
       "      <th>total_bedrooms</th>\n",
       "      <th>population</th>\n",
       "      <th>households</th>\n",
       "      <th>median_income</th>\n",
       "      <th>rooms_per_household</th>\n",
       "      <th>bedrooms_per_room</th>\n",
       "      <th>population_per_household</th>\n",
       "    </tr>\n",
       "  </thead>\n",
       "  <tbody>\n",
       "    <tr>\n",
       "      <th>0</th>\n",
       "      <td>-117.55</td>\n",
       "      <td>33.83</td>\n",
       "      <td>6.0</td>\n",
       "      <td>502.0</td>\n",
       "      <td>76.0</td>\n",
       "      <td>228.0</td>\n",
       "      <td>65.0</td>\n",
       "      <td>4.2386</td>\n",
       "      <td>7.723077</td>\n",
       "      <td>0.151394</td>\n",
       "      <td>3.507692</td>\n",
       "    </tr>\n",
       "    <tr>\n",
       "      <th>1</th>\n",
       "      <td>-122.44</td>\n",
       "      <td>37.73</td>\n",
       "      <td>52.0</td>\n",
       "      <td>2381.0</td>\n",
       "      <td>492.0</td>\n",
       "      <td>1485.0</td>\n",
       "      <td>447.0</td>\n",
       "      <td>4.3898</td>\n",
       "      <td>5.326622</td>\n",
       "      <td>0.206636</td>\n",
       "      <td>3.322148</td>\n",
       "    </tr>\n",
       "    <tr>\n",
       "      <th>2</th>\n",
       "      <td>-118.00</td>\n",
       "      <td>33.83</td>\n",
       "      <td>26.0</td>\n",
       "      <td>1718.0</td>\n",
       "      <td>385.0</td>\n",
       "      <td>1022.0</td>\n",
       "      <td>368.0</td>\n",
       "      <td>3.9333</td>\n",
       "      <td>4.668478</td>\n",
       "      <td>0.224098</td>\n",
       "      <td>2.777174</td>\n",
       "    </tr>\n",
       "    <tr>\n",
       "      <th>3</th>\n",
       "      <td>-118.26</td>\n",
       "      <td>34.01</td>\n",
       "      <td>38.0</td>\n",
       "      <td>697.0</td>\n",
       "      <td>208.0</td>\n",
       "      <td>749.0</td>\n",
       "      <td>206.0</td>\n",
       "      <td>1.4653</td>\n",
       "      <td>3.383495</td>\n",
       "      <td>0.298422</td>\n",
       "      <td>3.635922</td>\n",
       "    </tr>\n",
       "    <tr>\n",
       "      <th>4</th>\n",
       "      <td>-118.36</td>\n",
       "      <td>34.08</td>\n",
       "      <td>52.0</td>\n",
       "      <td>2373.0</td>\n",
       "      <td>601.0</td>\n",
       "      <td>1135.0</td>\n",
       "      <td>576.0</td>\n",
       "      <td>3.1765</td>\n",
       "      <td>4.119792</td>\n",
       "      <td>0.253266</td>\n",
       "      <td>1.970486</td>\n",
       "    </tr>\n",
       "    <tr>\n",
       "      <th>...</th>\n",
       "      <td>...</td>\n",
       "      <td>...</td>\n",
       "      <td>...</td>\n",
       "      <td>...</td>\n",
       "      <td>...</td>\n",
       "      <td>...</td>\n",
       "      <td>...</td>\n",
       "      <td>...</td>\n",
       "      <td>...</td>\n",
       "      <td>...</td>\n",
       "      <td>...</td>\n",
       "    </tr>\n",
       "    <tr>\n",
       "      <th>16507</th>\n",
       "      <td>-121.26</td>\n",
       "      <td>38.27</td>\n",
       "      <td>20.0</td>\n",
       "      <td>1314.0</td>\n",
       "      <td>229.0</td>\n",
       "      <td>712.0</td>\n",
       "      <td>219.0</td>\n",
       "      <td>4.4125</td>\n",
       "      <td>6.000000</td>\n",
       "      <td>0.174277</td>\n",
       "      <td>3.251142</td>\n",
       "    </tr>\n",
       "    <tr>\n",
       "      <th>16508</th>\n",
       "      <td>-120.89</td>\n",
       "      <td>37.48</td>\n",
       "      <td>27.0</td>\n",
       "      <td>1118.0</td>\n",
       "      <td>195.0</td>\n",
       "      <td>647.0</td>\n",
       "      <td>209.0</td>\n",
       "      <td>2.9135</td>\n",
       "      <td>5.349282</td>\n",
       "      <td>0.174419</td>\n",
       "      <td>3.095694</td>\n",
       "    </tr>\n",
       "    <tr>\n",
       "      <th>16509</th>\n",
       "      <td>-121.90</td>\n",
       "      <td>36.58</td>\n",
       "      <td>31.0</td>\n",
       "      <td>1431.0</td>\n",
       "      <td>434.0</td>\n",
       "      <td>704.0</td>\n",
       "      <td>393.0</td>\n",
       "      <td>3.1977</td>\n",
       "      <td>3.641221</td>\n",
       "      <td>0.202899</td>\n",
       "      <td>1.791349</td>\n",
       "    </tr>\n",
       "    <tr>\n",
       "      <th>16510</th>\n",
       "      <td>-117.93</td>\n",
       "      <td>33.62</td>\n",
       "      <td>34.0</td>\n",
       "      <td>2125.0</td>\n",
       "      <td>498.0</td>\n",
       "      <td>1052.0</td>\n",
       "      <td>468.0</td>\n",
       "      <td>5.6315</td>\n",
       "      <td>4.540598</td>\n",
       "      <td>0.234353</td>\n",
       "      <td>2.247863</td>\n",
       "    </tr>\n",
       "    <tr>\n",
       "      <th>16511</th>\n",
       "      <td>-115.56</td>\n",
       "      <td>32.80</td>\n",
       "      <td>15.0</td>\n",
       "      <td>1171.0</td>\n",
       "      <td>328.0</td>\n",
       "      <td>1024.0</td>\n",
       "      <td>298.0</td>\n",
       "      <td>1.3882</td>\n",
       "      <td>3.929530</td>\n",
       "      <td>0.280102</td>\n",
       "      <td>3.436242</td>\n",
       "    </tr>\n",
       "  </tbody>\n",
       "</table>\n",
       "<p>16512 rows × 11 columns</p>\n",
       "</div>"
      ],
      "text/plain": [
       "       longitude  latitude  housing_median_age  total_rooms  total_bedrooms  \\\n",
       "0        -117.55     33.83                 6.0        502.0            76.0   \n",
       "1        -122.44     37.73                52.0       2381.0           492.0   \n",
       "2        -118.00     33.83                26.0       1718.0           385.0   \n",
       "3        -118.26     34.01                38.0        697.0           208.0   \n",
       "4        -118.36     34.08                52.0       2373.0           601.0   \n",
       "...          ...       ...                 ...          ...             ...   \n",
       "16507    -121.26     38.27                20.0       1314.0           229.0   \n",
       "16508    -120.89     37.48                27.0       1118.0           195.0   \n",
       "16509    -121.90     36.58                31.0       1431.0           434.0   \n",
       "16510    -117.93     33.62                34.0       2125.0           498.0   \n",
       "16511    -115.56     32.80                15.0       1171.0           328.0   \n",
       "\n",
       "       population  households  median_income  rooms_per_household  \\\n",
       "0           228.0        65.0         4.2386             7.723077   \n",
       "1          1485.0       447.0         4.3898             5.326622   \n",
       "2          1022.0       368.0         3.9333             4.668478   \n",
       "3           749.0       206.0         1.4653             3.383495   \n",
       "4          1135.0       576.0         3.1765             4.119792   \n",
       "...           ...         ...            ...                  ...   \n",
       "16507       712.0       219.0         4.4125             6.000000   \n",
       "16508       647.0       209.0         2.9135             5.349282   \n",
       "16509       704.0       393.0         3.1977             3.641221   \n",
       "16510      1052.0       468.0         5.6315             4.540598   \n",
       "16511      1024.0       298.0         1.3882             3.929530   \n",
       "\n",
       "       bedrooms_per_room  population_per_household  \n",
       "0               0.151394                  3.507692  \n",
       "1               0.206636                  3.322148  \n",
       "2               0.224098                  2.777174  \n",
       "3               0.298422                  3.635922  \n",
       "4               0.253266                  1.970486  \n",
       "...                  ...                       ...  \n",
       "16507           0.174277                  3.251142  \n",
       "16508           0.174419                  3.095694  \n",
       "16509           0.202899                  1.791349  \n",
       "16510           0.234353                  2.247863  \n",
       "16511           0.280102                  3.436242  \n",
       "\n",
       "[16512 rows x 11 columns]"
      ]
     },
     "execution_count": 107,
     "metadata": {},
     "output_type": "execute_result"
    }
   ],
   "source": [
    "print(train_X.isna().sum().sum())  # If > 0, there are missing values\n",
    "train_X.fillna(train_X.mode(), inplace=True)  # Impute missing values\n",
    "train_X"
   ]
  },
  {
   "cell_type": "markdown",
   "metadata": {},
   "source": [
    "#### Encoding\n"
   ]
  },
  {
   "cell_type": "markdown",
   "metadata": {},
   "source": [
    "Some sample pipelines showcasing how to create column specific pipelines and integrating them overall is presented below\n",
    "\n",
    "- Commonly target encoding is done for categorical variables with too many levels.\n",
    "- We also group sparse levels. For fewer levels one hot encoding/label encoding is preferred.\n",
    "- If there is one dominant level, we can use binary encoding.\n",
    "- This will go into production code"
   ]
  },
  {
   "cell_type": "code",
   "execution_count": 93,
   "metadata": {},
   "outputs": [],
   "source": [
    "tgt_enc_simple_impt = Pipeline([\n",
    "    ('target_encoding', TargetEncoder()),\n",
    "    ('simple_impute', SimpleImputer(strategy='most_frequent')),\n",
    "])\n",
    "\n",
    "\n",
    "# NOTE: the list of transformations here are not sequential but weighted \n",
    "# (if multiple transforms are specified for a particular column)\n",
    "# for sequential transforms use a pipeline as shown above.\n",
    "features_transformer = ColumnTransformer([\n",
    "    \n",
    "    ## categorical columns\n",
    "    ('tgt_enc', TargetEncoder(return_df=False),\n",
    "     list(set(cat_columns))),\n",
    "    \n",
    "    ('num_impute', SimpleImputer(strategy='median'), num_columns),\n",
    "    \n",
    "])\n"
   ]
  },
  {
   "cell_type": "code",
   "execution_count": 94,
   "metadata": {},
   "outputs": [],
   "source": [
    "features_transformer.fit(train_X, train_y)\n",
    "transformed_data = features_transformer.transform(train_X)\n",
    "cat_feature_names = list(set(cat_columns))  # Original categorical column names\n",
    "num_feature_names = list(num_columns)  # Numerical column names\n",
    "\n",
    "all_feature_names = cat_feature_names + num_feature_names  # Merge feature names\n",
    "train_X = get_dataframe(transformed_data.astype(np.float64), all_feature_names)"
   ]
  },
  {
   "cell_type": "code",
   "execution_count": 95,
   "metadata": {},
   "outputs": [
    {
     "data": {
      "text/html": [
       "<div>\n",
       "<style scoped>\n",
       "    .dataframe tbody tr th:only-of-type {\n",
       "        vertical-align: middle;\n",
       "    }\n",
       "\n",
       "    .dataframe tbody tr th {\n",
       "        vertical-align: top;\n",
       "    }\n",
       "\n",
       "    .dataframe thead th {\n",
       "        text-align: right;\n",
       "    }\n",
       "</style>\n",
       "<table border=\"1\" class=\"dataframe\">\n",
       "  <thead>\n",
       "    <tr style=\"text-align: right;\">\n",
       "      <th></th>\n",
       "      <th>longitude</th>\n",
       "      <th>latitude</th>\n",
       "      <th>housing_median_age</th>\n",
       "      <th>total_rooms</th>\n",
       "      <th>total_bedrooms</th>\n",
       "      <th>population</th>\n",
       "      <th>households</th>\n",
       "      <th>median_income</th>\n",
       "      <th>rooms_per_household</th>\n",
       "      <th>bedrooms_per_room</th>\n",
       "      <th>population_per_household</th>\n",
       "    </tr>\n",
       "  </thead>\n",
       "  <tbody>\n",
       "    <tr>\n",
       "      <th>0</th>\n",
       "      <td>-117.55</td>\n",
       "      <td>33.83</td>\n",
       "      <td>6.0</td>\n",
       "      <td>502.0</td>\n",
       "      <td>76.0</td>\n",
       "      <td>228.0</td>\n",
       "      <td>65.0</td>\n",
       "      <td>4.2386</td>\n",
       "      <td>7.723077</td>\n",
       "      <td>0.151394</td>\n",
       "      <td>3.507692</td>\n",
       "    </tr>\n",
       "    <tr>\n",
       "      <th>1</th>\n",
       "      <td>-122.44</td>\n",
       "      <td>37.73</td>\n",
       "      <td>52.0</td>\n",
       "      <td>2381.0</td>\n",
       "      <td>492.0</td>\n",
       "      <td>1485.0</td>\n",
       "      <td>447.0</td>\n",
       "      <td>4.3898</td>\n",
       "      <td>5.326622</td>\n",
       "      <td>0.206636</td>\n",
       "      <td>3.322148</td>\n",
       "    </tr>\n",
       "    <tr>\n",
       "      <th>2</th>\n",
       "      <td>-118.00</td>\n",
       "      <td>33.83</td>\n",
       "      <td>26.0</td>\n",
       "      <td>1718.0</td>\n",
       "      <td>385.0</td>\n",
       "      <td>1022.0</td>\n",
       "      <td>368.0</td>\n",
       "      <td>3.9333</td>\n",
       "      <td>4.668478</td>\n",
       "      <td>0.224098</td>\n",
       "      <td>2.777174</td>\n",
       "    </tr>\n",
       "    <tr>\n",
       "      <th>3</th>\n",
       "      <td>-118.26</td>\n",
       "      <td>34.01</td>\n",
       "      <td>38.0</td>\n",
       "      <td>697.0</td>\n",
       "      <td>208.0</td>\n",
       "      <td>749.0</td>\n",
       "      <td>206.0</td>\n",
       "      <td>1.4653</td>\n",
       "      <td>3.383495</td>\n",
       "      <td>0.298422</td>\n",
       "      <td>3.635922</td>\n",
       "    </tr>\n",
       "    <tr>\n",
       "      <th>4</th>\n",
       "      <td>-118.36</td>\n",
       "      <td>34.08</td>\n",
       "      <td>52.0</td>\n",
       "      <td>2373.0</td>\n",
       "      <td>601.0</td>\n",
       "      <td>1135.0</td>\n",
       "      <td>576.0</td>\n",
       "      <td>3.1765</td>\n",
       "      <td>4.119792</td>\n",
       "      <td>0.253266</td>\n",
       "      <td>1.970486</td>\n",
       "    </tr>\n",
       "    <tr>\n",
       "      <th>...</th>\n",
       "      <td>...</td>\n",
       "      <td>...</td>\n",
       "      <td>...</td>\n",
       "      <td>...</td>\n",
       "      <td>...</td>\n",
       "      <td>...</td>\n",
       "      <td>...</td>\n",
       "      <td>...</td>\n",
       "      <td>...</td>\n",
       "      <td>...</td>\n",
       "      <td>...</td>\n",
       "    </tr>\n",
       "    <tr>\n",
       "      <th>16507</th>\n",
       "      <td>-121.26</td>\n",
       "      <td>38.27</td>\n",
       "      <td>20.0</td>\n",
       "      <td>1314.0</td>\n",
       "      <td>229.0</td>\n",
       "      <td>712.0</td>\n",
       "      <td>219.0</td>\n",
       "      <td>4.4125</td>\n",
       "      <td>6.000000</td>\n",
       "      <td>0.174277</td>\n",
       "      <td>3.251142</td>\n",
       "    </tr>\n",
       "    <tr>\n",
       "      <th>16508</th>\n",
       "      <td>-120.89</td>\n",
       "      <td>37.48</td>\n",
       "      <td>27.0</td>\n",
       "      <td>1118.0</td>\n",
       "      <td>195.0</td>\n",
       "      <td>647.0</td>\n",
       "      <td>209.0</td>\n",
       "      <td>2.9135</td>\n",
       "      <td>5.349282</td>\n",
       "      <td>0.174419</td>\n",
       "      <td>3.095694</td>\n",
       "    </tr>\n",
       "    <tr>\n",
       "      <th>16509</th>\n",
       "      <td>-121.90</td>\n",
       "      <td>36.58</td>\n",
       "      <td>31.0</td>\n",
       "      <td>1431.0</td>\n",
       "      <td>434.0</td>\n",
       "      <td>704.0</td>\n",
       "      <td>393.0</td>\n",
       "      <td>3.1977</td>\n",
       "      <td>3.641221</td>\n",
       "      <td>0.202899</td>\n",
       "      <td>1.791349</td>\n",
       "    </tr>\n",
       "    <tr>\n",
       "      <th>16510</th>\n",
       "      <td>-117.93</td>\n",
       "      <td>33.62</td>\n",
       "      <td>34.0</td>\n",
       "      <td>2125.0</td>\n",
       "      <td>498.0</td>\n",
       "      <td>1052.0</td>\n",
       "      <td>468.0</td>\n",
       "      <td>5.6315</td>\n",
       "      <td>4.540598</td>\n",
       "      <td>0.234353</td>\n",
       "      <td>2.247863</td>\n",
       "    </tr>\n",
       "    <tr>\n",
       "      <th>16511</th>\n",
       "      <td>-115.56</td>\n",
       "      <td>32.80</td>\n",
       "      <td>15.0</td>\n",
       "      <td>1171.0</td>\n",
       "      <td>328.0</td>\n",
       "      <td>1024.0</td>\n",
       "      <td>298.0</td>\n",
       "      <td>1.3882</td>\n",
       "      <td>3.929530</td>\n",
       "      <td>0.280102</td>\n",
       "      <td>3.436242</td>\n",
       "    </tr>\n",
       "  </tbody>\n",
       "</table>\n",
       "<p>16512 rows × 11 columns</p>\n",
       "</div>"
      ],
      "text/plain": [
       "       longitude  latitude  housing_median_age  total_rooms  total_bedrooms  \\\n",
       "0        -117.55     33.83                 6.0        502.0            76.0   \n",
       "1        -122.44     37.73                52.0       2381.0           492.0   \n",
       "2        -118.00     33.83                26.0       1718.0           385.0   \n",
       "3        -118.26     34.01                38.0        697.0           208.0   \n",
       "4        -118.36     34.08                52.0       2373.0           601.0   \n",
       "...          ...       ...                 ...          ...             ...   \n",
       "16507    -121.26     38.27                20.0       1314.0           229.0   \n",
       "16508    -120.89     37.48                27.0       1118.0           195.0   \n",
       "16509    -121.90     36.58                31.0       1431.0           434.0   \n",
       "16510    -117.93     33.62                34.0       2125.0           498.0   \n",
       "16511    -115.56     32.80                15.0       1171.0           328.0   \n",
       "\n",
       "       population  households  median_income  rooms_per_household  \\\n",
       "0           228.0        65.0         4.2386             7.723077   \n",
       "1          1485.0       447.0         4.3898             5.326622   \n",
       "2          1022.0       368.0         3.9333             4.668478   \n",
       "3           749.0       206.0         1.4653             3.383495   \n",
       "4          1135.0       576.0         3.1765             4.119792   \n",
       "...           ...         ...            ...                  ...   \n",
       "16507       712.0       219.0         4.4125             6.000000   \n",
       "16508       647.0       209.0         2.9135             5.349282   \n",
       "16509       704.0       393.0         3.1977             3.641221   \n",
       "16510      1052.0       468.0         5.6315             4.540598   \n",
       "16511      1024.0       298.0         1.3882             3.929530   \n",
       "\n",
       "       bedrooms_per_room  population_per_household  \n",
       "0               0.151394                  3.507692  \n",
       "1               0.206636                  3.322148  \n",
       "2               0.224098                  2.777174  \n",
       "3               0.298422                  3.635922  \n",
       "4               0.253266                  1.970486  \n",
       "...                  ...                       ...  \n",
       "16507           0.174277                  3.251142  \n",
       "16508           0.174419                  3.095694  \n",
       "16509           0.202899                  1.791349  \n",
       "16510           0.234353                  2.247863  \n",
       "16511           0.280102                  3.436242  \n",
       "\n",
       "[16512 rows x 11 columns]"
      ]
     },
     "execution_count": 95,
     "metadata": {},
     "output_type": "execute_result"
    }
   ],
   "source": [
    "train_X "
   ]
  },
  {
   "attachments": {},
   "cell_type": "markdown",
   "metadata": {},
   "source": [
    "**Dev notes(Encoding):**\n",
    "<details>\n",
    "\n",
    "    Some common practices followed in Categorical Feature Encoding are\n",
    "    * For categorical variables with too many levels, target encoding can be done.\n",
    "    * For fewer levels, one hot encoding can be done.\n",
    "    * If one very dominant level is observed, binary encoding can be used.\n",
    "    \n",
    "    \n",
    "</details>"
   ]
  },
  {
   "cell_type": "markdown",
   "metadata": {},
   "source": [
    "# 4 Modelling"
   ]
  },
  {
   "cell_type": "markdown",
   "metadata": {},
   "source": [
    "## 4.1 Modelling - Linear Regression"
   ]
  },
  {
   "cell_type": "markdown",
   "metadata": {},
   "source": [
    "### 4.1.1 Feature Selection(Specific to Regression)\n",
    "\n",
    "- Selecting Features specific to regression\n",
    "- VIF : measure of the amount of multi-collinearity in a set of multiple regressor variables. \n",
    "- On a case to case basis VIF thresholds change. Generally 5 or 10 are acceptable levels.\n",
    "- Usually on a recursive basis when removing the most collinear variable, there can be shuffle in VIF. \n",
    "- Often this section will not be part of the production code."
   ]
  },
  {
   "cell_type": "code",
   "execution_count": 96,
   "metadata": {},
   "outputs": [],
   "source": [
    "cols = list(train_X.columns)\n",
    "vif = eda.calc_vif(train_X)\n",
    "while max(vif.VIF) > 15:\n",
    "    #removing the largest variable from VIF\n",
    "    cols.remove(vif[(vif.VIF==vif.VIF.max())].variables.tolist()[0])\n",
    "    vif = eda.calc_vif(train_X[cols])"
   ]
  },
  {
   "cell_type": "code",
   "execution_count": 98,
   "metadata": {},
   "outputs": [
    {
     "data": {
      "text/plain": [
       "['housing_median_age',\n",
       " 'total_bedrooms',\n",
       " 'population',\n",
       " 'median_income',\n",
       " 'rooms_per_household',\n",
       " 'bedrooms_per_room',\n",
       " 'population_per_household']"
      ]
     },
     "execution_count": 98,
     "metadata": {},
     "output_type": "execute_result"
    }
   ],
   "source": [
    "reg_vars = vif.query('VIF < 15').variables\n",
    "reg_vars = list(reg_vars)\n",
    "reg_vars"
   ]
  },
  {
   "cell_type": "markdown",
   "metadata": {},
   "source": [
    "### 4.1.2 Data transformations"
   ]
  },
  {
   "cell_type": "code",
   "execution_count": 99,
   "metadata": {},
   "outputs": [],
   "source": [
    "# Custom Transformations like these can be utilised\n",
    "def _custom_data_transform(df, cols2keep=None):\n",
    "    \"\"\"Transformation to drop some columns in the data\n",
    "    \n",
    "    Parameters\n",
    "    ----------\n",
    "        df - pd.DataFrame\n",
    "        cols2keep - columns to keep in the dataframe\n",
    "    \"\"\"\n",
    "    cols2keep = cols2keep or []\n",
    "    if len(cols2keep):\n",
    "        return (df\n",
    "                .select_columns(cols2keep))\n",
    "    else:\n",
    "        return df"
   ]
  },
  {
   "cell_type": "markdown",
   "metadata": {},
   "source": [
    "### 4.1.3 Model training pipeline\n",
    "\n",
    "- Here we focus on creating a collection of pipelines that can be used for training respective models.\n",
    "- Each model pipeline will essentially be of the form\n",
    "```\n",
    "[\n",
    "('preprocessing', preprocessing_pipeline),\n",
    "('feature_selection', feature_selection_pipeline),\n",
    "('estimator', estimator),\n",
    "]\n",
    "```"
   ]
  },
  {
   "cell_type": "markdown",
   "metadata": {},
   "source": [
    "### 4.1.4 Model Pipeline Build\n",
    "\n",
    "- This will be part of the production code (training only)."
   ]
  },
  {
   "cell_type": "code",
   "execution_count": 108,
   "metadata": {},
   "outputs": [
    {
     "data": {
      "text/html": [
       "<style>#sk-container-id-9 {color: black;background-color: white;}#sk-container-id-9 pre{padding: 0;}#sk-container-id-9 div.sk-toggleable {background-color: white;}#sk-container-id-9 label.sk-toggleable__label {cursor: pointer;display: block;width: 100%;margin-bottom: 0;padding: 0.3em;box-sizing: border-box;text-align: center;}#sk-container-id-9 label.sk-toggleable__label-arrow:before {content: \"▸\";float: left;margin-right: 0.25em;color: #696969;}#sk-container-id-9 label.sk-toggleable__label-arrow:hover:before {color: black;}#sk-container-id-9 div.sk-estimator:hover label.sk-toggleable__label-arrow:before {color: black;}#sk-container-id-9 div.sk-toggleable__content {max-height: 0;max-width: 0;overflow: hidden;text-align: left;background-color: #f0f8ff;}#sk-container-id-9 div.sk-toggleable__content pre {margin: 0.2em;color: black;border-radius: 0.25em;background-color: #f0f8ff;}#sk-container-id-9 input.sk-toggleable__control:checked~div.sk-toggleable__content {max-height: 200px;max-width: 100%;overflow: auto;}#sk-container-id-9 input.sk-toggleable__control:checked~label.sk-toggleable__label-arrow:before {content: \"▾\";}#sk-container-id-9 div.sk-estimator input.sk-toggleable__control:checked~label.sk-toggleable__label {background-color: #d4ebff;}#sk-container-id-9 div.sk-label input.sk-toggleable__control:checked~label.sk-toggleable__label {background-color: #d4ebff;}#sk-container-id-9 input.sk-hidden--visually {border: 0;clip: rect(1px 1px 1px 1px);clip: rect(1px, 1px, 1px, 1px);height: 1px;margin: -1px;overflow: hidden;padding: 0;position: absolute;width: 1px;}#sk-container-id-9 div.sk-estimator {font-family: monospace;background-color: #f0f8ff;border: 1px dotted black;border-radius: 0.25em;box-sizing: border-box;margin-bottom: 0.5em;}#sk-container-id-9 div.sk-estimator:hover {background-color: #d4ebff;}#sk-container-id-9 div.sk-parallel-item::after {content: \"\";width: 100%;border-bottom: 1px solid gray;flex-grow: 1;}#sk-container-id-9 div.sk-label:hover label.sk-toggleable__label {background-color: #d4ebff;}#sk-container-id-9 div.sk-serial::before {content: \"\";position: absolute;border-left: 1px solid gray;box-sizing: border-box;top: 0;bottom: 0;left: 50%;z-index: 0;}#sk-container-id-9 div.sk-serial {display: flex;flex-direction: column;align-items: center;background-color: white;padding-right: 0.2em;padding-left: 0.2em;position: relative;}#sk-container-id-9 div.sk-item {position: relative;z-index: 1;}#sk-container-id-9 div.sk-parallel {display: flex;align-items: stretch;justify-content: center;background-color: white;position: relative;}#sk-container-id-9 div.sk-item::before, #sk-container-id-9 div.sk-parallel-item::before {content: \"\";position: absolute;border-left: 1px solid gray;box-sizing: border-box;top: 0;bottom: 0;left: 50%;z-index: -1;}#sk-container-id-9 div.sk-parallel-item {display: flex;flex-direction: column;z-index: 1;position: relative;background-color: white;}#sk-container-id-9 div.sk-parallel-item:first-child::after {align-self: flex-end;width: 50%;}#sk-container-id-9 div.sk-parallel-item:last-child::after {align-self: flex-start;width: 50%;}#sk-container-id-9 div.sk-parallel-item:only-child::after {width: 0;}#sk-container-id-9 div.sk-dashed-wrapped {border: 1px dashed gray;margin: 0 0.4em 0.5em 0.4em;box-sizing: border-box;padding-bottom: 0.4em;background-color: white;}#sk-container-id-9 div.sk-label label {font-family: monospace;font-weight: bold;display: inline-block;line-height: 1.2em;}#sk-container-id-9 div.sk-label-container {text-align: center;}#sk-container-id-9 div.sk-container {/* jupyter's `normalize.less` sets `[hidden] { display: none; }` but bootstrap.min.css set `[hidden] { display: none !important; }` so we also need the `!important` here to be able to override the default hidden behavior on the sphinx rendered scikit-learn.org. See: https://github.com/scikit-learn/scikit-learn/issues/21755 */display: inline-block !important;position: relative;}#sk-container-id-9 div.sk-text-repr-fallback {display: none;}</style><div id=\"sk-container-id-9\" class=\"sk-top-container\"><div class=\"sk-text-repr-fallback\"><pre>Pipeline(steps=[(&#x27;column_selector&#x27;,\n",
       "                 FunctionTransformer(func=&lt;function _custom_data_transform at 0x7f9223896950&gt;,\n",
       "                                     kw_args={&#x27;cols2keep&#x27;: [&#x27;housing_median_age&#x27;,\n",
       "                                                            &#x27;total_bedrooms&#x27;,\n",
       "                                                            &#x27;population&#x27;,\n",
       "                                                            &#x27;median_income&#x27;,\n",
       "                                                            &#x27;rooms_per_household&#x27;,\n",
       "                                                            &#x27;bedrooms_per_room&#x27;,\n",
       "                                                            &#x27;population_per_household&#x27;]})),\n",
       "                (&#x27;estimator&#x27;, SKLStatsmodelOLS())])</pre><b>In a Jupyter environment, please rerun this cell to show the HTML representation or trust the notebook. <br />On GitHub, the HTML representation is unable to render, please try loading this page with nbviewer.org.</b></div><div class=\"sk-container\" hidden><div class=\"sk-item sk-dashed-wrapped\"><div class=\"sk-label-container\"><div class=\"sk-label sk-toggleable\"><input class=\"sk-toggleable__control sk-hidden--visually\" id=\"sk-estimator-id-25\" type=\"checkbox\" ><label for=\"sk-estimator-id-25\" class=\"sk-toggleable__label sk-toggleable__label-arrow\">Pipeline</label><div class=\"sk-toggleable__content\"><pre>Pipeline(steps=[(&#x27;column_selector&#x27;,\n",
       "                 FunctionTransformer(func=&lt;function _custom_data_transform at 0x7f9223896950&gt;,\n",
       "                                     kw_args={&#x27;cols2keep&#x27;: [&#x27;housing_median_age&#x27;,\n",
       "                                                            &#x27;total_bedrooms&#x27;,\n",
       "                                                            &#x27;population&#x27;,\n",
       "                                                            &#x27;median_income&#x27;,\n",
       "                                                            &#x27;rooms_per_household&#x27;,\n",
       "                                                            &#x27;bedrooms_per_room&#x27;,\n",
       "                                                            &#x27;population_per_household&#x27;]})),\n",
       "                (&#x27;estimator&#x27;, SKLStatsmodelOLS())])</pre></div></div></div><div class=\"sk-serial\"><div class=\"sk-item\"><div class=\"sk-estimator sk-toggleable\"><input class=\"sk-toggleable__control sk-hidden--visually\" id=\"sk-estimator-id-26\" type=\"checkbox\" ><label for=\"sk-estimator-id-26\" class=\"sk-toggleable__label sk-toggleable__label-arrow\">FunctionTransformer</label><div class=\"sk-toggleable__content\"><pre>FunctionTransformer(func=&lt;function _custom_data_transform at 0x7f9223896950&gt;,\n",
       "                    kw_args={&#x27;cols2keep&#x27;: [&#x27;housing_median_age&#x27;,\n",
       "                                           &#x27;total_bedrooms&#x27;, &#x27;population&#x27;,\n",
       "                                           &#x27;median_income&#x27;,\n",
       "                                           &#x27;rooms_per_household&#x27;,\n",
       "                                           &#x27;bedrooms_per_room&#x27;,\n",
       "                                           &#x27;population_per_household&#x27;]})</pre></div></div></div><div class=\"sk-item\"><div class=\"sk-estimator sk-toggleable\"><input class=\"sk-toggleable__control sk-hidden--visually\" id=\"sk-estimator-id-27\" type=\"checkbox\" ><label for=\"sk-estimator-id-27\" class=\"sk-toggleable__label sk-toggleable__label-arrow\">SKLStatsmodelOLS</label><div class=\"sk-toggleable__content\"><pre>SKLStatsmodelOLS()</pre></div></div></div></div></div></div></div>"
      ],
      "text/plain": [
       "Pipeline(steps=[('column_selector',\n",
       "                 FunctionTransformer(func=<function _custom_data_transform at 0x7f9223896950>,\n",
       "                                     kw_args={'cols2keep': ['housing_median_age',\n",
       "                                                            'total_bedrooms',\n",
       "                                                            'population',\n",
       "                                                            'median_income',\n",
       "                                                            'rooms_per_household',\n",
       "                                                            'bedrooms_per_room',\n",
       "                                                            'population_per_household']})),\n",
       "                ('estimator', SKLStatsmodelOLS())])"
      ]
     },
     "execution_count": 108,
     "metadata": {},
     "output_type": "execute_result"
    }
   ],
   "source": [
    "reg_ppln_ols = Pipeline([\n",
    "    ('column_selector',FunctionTransformer(_custom_data_transform, kw_args={'cols2keep':reg_vars})),\n",
    "    ('estimator', SKLStatsmodelOLS())\n",
    "])\n",
    "reg_ppln_ols.fit(train_X, train_y.values.ravel())"
   ]
  },
  {
   "cell_type": "code",
   "execution_count": 101,
   "metadata": {},
   "outputs": [
    {
     "data": {
      "text/html": [
       "<table class=\"simpletable\">\n",
       "<caption>OLS Regression Results</caption>\n",
       "<tr>\n",
       "  <th>Dep. Variable:</th>            <td>y</td>        <th>  R-squared:         </th>  <td>   0.577</td>  \n",
       "</tr>\n",
       "<tr>\n",
       "  <th>Model:</th>                   <td>OLS</td>       <th>  Adj. R-squared:    </th>  <td>   0.577</td>  \n",
       "</tr>\n",
       "<tr>\n",
       "  <th>Method:</th>             <td>Least Squares</td>  <th>  F-statistic:       </th>  <td>   3219.</td>  \n",
       "</tr>\n",
       "<tr>\n",
       "  <th>Date:</th>             <td>Tue, 22 Apr 2025</td> <th>  Prob (F-statistic):</th>   <td>  0.00</td>   \n",
       "</tr>\n",
       "<tr>\n",
       "  <th>Time:</th>                 <td>14:05:45</td>     <th>  Log-Likelihood:    </th> <td>-2.0883e+05</td>\n",
       "</tr>\n",
       "<tr>\n",
       "  <th>No. Observations:</th>      <td> 16512</td>      <th>  AIC:               </th>  <td>4.177e+05</td> \n",
       "</tr>\n",
       "<tr>\n",
       "  <th>Df Residuals:</th>          <td> 16504</td>      <th>  BIC:               </th>  <td>4.177e+05</td> \n",
       "</tr>\n",
       "<tr>\n",
       "  <th>Df Model:</th>              <td>     7</td>      <th>                     </th>      <td> </td>     \n",
       "</tr>\n",
       "<tr>\n",
       "  <th>Covariance Type:</th>      <td>nonrobust</td>    <th>                     </th>      <td> </td>     \n",
       "</tr>\n",
       "</table>\n",
       "<table class=\"simpletable\">\n",
       "<tr>\n",
       "              <td></td>                <th>coef</th>     <th>std err</th>      <th>t</th>      <th>P>|t|</th>  <th>[0.025</th>    <th>0.975]</th>  \n",
       "</tr>\n",
       "<tr>\n",
       "  <th>intercept</th>                <td> -1.35e+05</td> <td> 4770.319</td> <td>  -28.291</td> <td> 0.000</td> <td>-1.44e+05</td> <td>-1.26e+05</td>\n",
       "</tr>\n",
       "<tr>\n",
       "  <th>housing_median_age</th>       <td> 1855.1561</td> <td>   50.146</td> <td>   36.995</td> <td> 0.000</td> <td> 1756.864</td> <td> 1953.448</td>\n",
       "</tr>\n",
       "<tr>\n",
       "  <th>total_bedrooms</th>           <td>   93.9502</td> <td>    3.021</td> <td>   31.101</td> <td> 0.000</td> <td>   88.029</td> <td>   99.871</td>\n",
       "</tr>\n",
       "<tr>\n",
       "  <th>population</th>               <td>  -27.9343</td> <td>    1.102</td> <td>  -25.350</td> <td> 0.000</td> <td>  -30.094</td> <td>  -25.774</td>\n",
       "</tr>\n",
       "<tr>\n",
       "  <th>median_income</th>            <td> 5.167e+04</td> <td>  391.206</td> <td>  132.090</td> <td> 0.000</td> <td> 5.09e+04</td> <td> 5.24e+04</td>\n",
       "</tr>\n",
       "<tr>\n",
       "  <th>rooms_per_household</th>      <td>-1328.0802</td> <td>  262.027</td> <td>   -5.068</td> <td> 0.000</td> <td>-1841.682</td> <td> -814.478</td>\n",
       "</tr>\n",
       "<tr>\n",
       "  <th>bedrooms_per_room</th>        <td> 4.022e+05</td> <td> 1.36e+04</td> <td>   29.478</td> <td> 0.000</td> <td> 3.75e+05</td> <td> 4.29e+05</td>\n",
       "</tr>\n",
       "<tr>\n",
       "  <th>population_per_household</th> <td>  -39.9154</td> <td>   93.280</td> <td>   -0.428</td> <td> 0.669</td> <td> -222.754</td> <td>  142.923</td>\n",
       "</tr>\n",
       "</table>\n",
       "<table class=\"simpletable\">\n",
       "<tr>\n",
       "  <th>Omnibus:</th>       <td>3116.766</td> <th>  Durbin-Watson:     </th> <td>   1.986</td> \n",
       "</tr>\n",
       "<tr>\n",
       "  <th>Prob(Omnibus):</th>  <td> 0.000</td>  <th>  Jarque-Bera (JB):  </th> <td>11144.011</td>\n",
       "</tr>\n",
       "<tr>\n",
       "  <th>Skew:</th>           <td> 0.928</td>  <th>  Prob(JB):          </th> <td>    0.00</td> \n",
       "</tr>\n",
       "<tr>\n",
       "  <th>Kurtosis:</th>       <td> 6.571</td>  <th>  Cond. No.          </th> <td>4.71e+04</td> \n",
       "</tr>\n",
       "</table><br/><br/>Notes:<br/>[1] Standard Errors assume that the covariance matrix of the errors is correctly specified.<br/>[2] The condition number is large, 4.71e+04. This might indicate that there are<br/>strong multicollinearity or other numerical problems."
      ],
      "text/plain": [
       "<class 'statsmodels.iolib.summary.Summary'>\n",
       "\"\"\"\n",
       "                            OLS Regression Results                            \n",
       "==============================================================================\n",
       "Dep. Variable:                      y   R-squared:                       0.577\n",
       "Model:                            OLS   Adj. R-squared:                  0.577\n",
       "Method:                 Least Squares   F-statistic:                     3219.\n",
       "Date:                Tue, 22 Apr 2025   Prob (F-statistic):               0.00\n",
       "Time:                        14:05:45   Log-Likelihood:            -2.0883e+05\n",
       "No. Observations:               16512   AIC:                         4.177e+05\n",
       "Df Residuals:                   16504   BIC:                         4.177e+05\n",
       "Df Model:                           7                                         \n",
       "Covariance Type:            nonrobust                                         \n",
       "============================================================================================\n",
       "                               coef    std err          t      P>|t|      [0.025      0.975]\n",
       "--------------------------------------------------------------------------------------------\n",
       "intercept                 -1.35e+05   4770.319    -28.291      0.000   -1.44e+05   -1.26e+05\n",
       "housing_median_age        1855.1561     50.146     36.995      0.000    1756.864    1953.448\n",
       "total_bedrooms              93.9502      3.021     31.101      0.000      88.029      99.871\n",
       "population                 -27.9343      1.102    -25.350      0.000     -30.094     -25.774\n",
       "median_income             5.167e+04    391.206    132.090      0.000    5.09e+04    5.24e+04\n",
       "rooms_per_household      -1328.0802    262.027     -5.068      0.000   -1841.682    -814.478\n",
       "bedrooms_per_room         4.022e+05   1.36e+04     29.478      0.000    3.75e+05    4.29e+05\n",
       "population_per_household   -39.9154     93.280     -0.428      0.669    -222.754     142.923\n",
       "==============================================================================\n",
       "Omnibus:                     3116.766   Durbin-Watson:                   1.986\n",
       "Prob(Omnibus):                  0.000   Jarque-Bera (JB):            11144.011\n",
       "Skew:                           0.928   Prob(JB):                         0.00\n",
       "Kurtosis:                       6.571   Cond. No.                     4.71e+04\n",
       "==============================================================================\n",
       "\n",
       "Notes:\n",
       "[1] Standard Errors assume that the covariance matrix of the errors is correctly specified.\n",
       "[2] The condition number is large, 4.71e+04. This might indicate that there are\n",
       "strong multicollinearity or other numerical problems.\n",
       "\"\"\""
      ]
     },
     "execution_count": 101,
     "metadata": {},
     "output_type": "execute_result"
    }
   ],
   "source": [
    "reg_ppln_ols['estimator'].summary()"
   ]
  },
  {
   "cell_type": "markdown",
   "metadata": {},
   "source": [
    "### 4.1.5 Model Evaluation(Linear Model)\n",
    "\n",
    "This will be part of the production code."
   ]
  },
  {
   "cell_type": "code",
   "execution_count": 116,
   "metadata": {},
   "outputs": [],
   "source": [
    "reg_ppln = Pipeline([\n",
    "    ('', FunctionTransformer(_custom_data_transform, kw_args={'cols2keep':reg_vars})),\n",
    "    ('Linear Regression', SKLStatsmodelOLS())\n",
    "])\n",
    "reg_ppln.fit(train_X, train_y.values.ravel())\n",
    "test_X = get_dataframe(\n",
    "    features_transformer.transform(test_X), \n",
    "    all_feature_names\n",
    ")"
   ]
  },
  {
   "cell_type": "code",
   "execution_count": 119,
   "metadata": {},
   "outputs": [],
   "source": [
    "reg_linear_report = RegressionReport(model=reg_ppln, x_train=train_X, y_train=train_y, x_test= test_X, y_test= test_y, refit=True)\n",
    "reg_linear_report.get_report(include_shap=False, file_path='reports/regression_linear_model_report')"
   ]
  },
  {
   "cell_type": "markdown",
   "metadata": {},
   "source": [
    "**Dev Notes**\n",
    "Use SHAP for variable interpretability.\n",
    "<details>\n",
    "\n",
    "    1. Use SHAP=True to generate variable interpretability plots in the report\n",
    "    2. SHAP is recommended for non parameteric models such as RF, xgboost.\n",
    "    3. However, SHAP reports are time consuming depending on no.of records and model complexity.\n",
    "    \n",
    "A sample of regerssion report with SHAP can be found [here](https://drive.google.com/file/d/18RlQTsT1ze09Cgz-qpb4ha_cvyWbN5F5/view?usp=sharing).\n",
    "</details>"
   ]
  },
  {
   "cell_type": "markdown",
   "metadata": {},
   "source": [
    "### 4.1.6 Residual Analysis\n",
    "- After scoring the model, it is recommended to do a residual analysis to know the distribution of errors\n",
    "- we took a threshold of 30% above which it is marked as over prediction or underprediction\n",
    "- This will not be part of the production code."
   ]
  },
  {
   "cell_type": "code",
   "execution_count": 127,
   "metadata": {},
   "outputs": [],
   "source": [
    "threshold=0.3\n",
    "residual_analysis = test_X.copy()\n",
    "residual_analysis['prediction'] = reg_ppln_ols.predict(test_X)\n",
    "residual_analysis['actuals'] = test_y.reset_index(drop = True).iloc[:,0].values\n",
    "residual_analysis['forecast_flag'] = 'good'\n",
    "residual_analysis.loc[((residual_analysis['prediction'] > (1+threshold) * residual_analysis['actuals'])\\\n",
    "                       & (residual_analysis['actuals']>100)),'forecast_flag'] = 'over predict'\n",
    "residual_analysis.loc[((residual_analysis['prediction'] < (1-threshold) * residual_analysis['actuals'])\\\n",
    "                       & (residual_analysis['actuals']>100)),'forecast_flag'] = 'under predict'\n",
    "\n",
    "residual_analysis[\"residual\"] = residual_analysis[\"actuals\"] - residual_analysis[\"prediction\"]\n",
    "residual_analysis[\"residual\"] = residual_analysis[\"residual\"].astype(\"float64\")\n"
   ]
  },
  {
   "cell_type": "code",
   "execution_count": 128,
   "metadata": {},
   "outputs": [
    {
     "data": {},
     "metadata": {},
     "output_type": "display_data"
    },
    {
     "data": {
      "application/vnd.holoviews_exec.v0+json": "",
      "text/html": [
       "<div id='38292'>\n",
       "  <div class=\"bk-root\" id=\"cee8541c-b110-4a59-9397-63e398f6575e\" data-root-id=\"38292\"></div>\n",
       "</div>\n",
       "<script type=\"application/javascript\">(function(root) {\n",
       "  function embed_document(root) {\n",
       "    var docs_json = {\"2ee2ad20-b0b4-4a48-a22e-b7562acae1a8\":{\"defs\":[{\"extends\":null,\"module\":null,\"name\":\"ReactiveHTML1\",\"overrides\":[],\"properties\":[]},{\"extends\":null,\"module\":null,\"name\":\"FlexBox1\",\"overrides\":[],\"properties\":[{\"default\":\"flex-start\",\"kind\":null,\"name\":\"align_content\"},{\"default\":\"flex-start\",\"kind\":null,\"name\":\"align_items\"},{\"default\":\"row\",\"kind\":null,\"name\":\"flex_direction\"},{\"default\":\"wrap\",\"kind\":null,\"name\":\"flex_wrap\"},{\"default\":\"flex-start\",\"kind\":null,\"name\":\"justify_content\"}]},{\"extends\":null,\"module\":null,\"name\":\"GridStack1\",\"overrides\":[],\"properties\":[{\"default\":\"warn\",\"kind\":null,\"name\":\"mode\"},{\"default\":null,\"kind\":null,\"name\":\"ncols\"},{\"default\":null,\"kind\":null,\"name\":\"nrows\"},{\"default\":true,\"kind\":null,\"name\":\"allow_resize\"},{\"default\":true,\"kind\":null,\"name\":\"allow_drag\"},{\"default\":[],\"kind\":null,\"name\":\"state\"}]},{\"extends\":null,\"module\":null,\"name\":\"click1\",\"overrides\":[],\"properties\":[{\"default\":\"\",\"kind\":null,\"name\":\"terminal_output\"},{\"default\":\"\",\"kind\":null,\"name\":\"debug_name\"},{\"default\":0,\"kind\":null,\"name\":\"clears\"}]},{\"extends\":null,\"module\":null,\"name\":\"NotificationAreaBase1\",\"overrides\":[],\"properties\":[{\"default\":\"bottom-right\",\"kind\":null,\"name\":\"position\"},{\"default\":0,\"kind\":null,\"name\":\"_clear\"}]},{\"extends\":null,\"module\":null,\"name\":\"NotificationArea1\",\"overrides\":[],\"properties\":[{\"default\":[],\"kind\":null,\"name\":\"notifications\"},{\"default\":\"bottom-right\",\"kind\":null,\"name\":\"position\"},{\"default\":0,\"kind\":null,\"name\":\"_clear\"},{\"default\":[{\"background\":\"#ffc107\",\"icon\":{\"className\":\"fas fa-exclamation-triangle\",\"color\":\"white\",\"tagName\":\"i\"},\"type\":\"warning\"},{\"background\":\"#007bff\",\"icon\":{\"className\":\"fas fa-info-circle\",\"color\":\"white\",\"tagName\":\"i\"},\"type\":\"info\"}],\"kind\":null,\"name\":\"types\"}]},{\"extends\":null,\"module\":null,\"name\":\"Notification\",\"overrides\":[],\"properties\":[{\"default\":null,\"kind\":null,\"name\":\"background\"},{\"default\":3000,\"kind\":null,\"name\":\"duration\"},{\"default\":null,\"kind\":null,\"name\":\"icon\"},{\"default\":\"\",\"kind\":null,\"name\":\"message\"},{\"default\":null,\"kind\":null,\"name\":\"notification_type\"},{\"default\":false,\"kind\":null,\"name\":\"_destroyed\"}]},{\"extends\":null,\"module\":null,\"name\":\"TemplateActions1\",\"overrides\":[],\"properties\":[{\"default\":0,\"kind\":null,\"name\":\"open_modal\"},{\"default\":0,\"kind\":null,\"name\":\"close_modal\"}]},{\"extends\":null,\"module\":null,\"name\":\"MaterialTemplateActions1\",\"overrides\":[],\"properties\":[{\"default\":0,\"kind\":null,\"name\":\"open_modal\"},{\"default\":0,\"kind\":null,\"name\":\"close_modal\"}]}],\"roots\":{\"references\":[{\"attributes\":{\"label\":{\"value\":\"over predict\"},\"renderers\":[{\"id\":\"38341\"}]},\"id\":\"38354\",\"type\":\"LegendItem\"},{\"attributes\":{\"children\":[{\"id\":\"38293\"},{\"id\":\"38299\"},{\"id\":\"38514\"}],\"margin\":[0,0,0,0],\"name\":\"Row120057\",\"tags\":[\"embedded\"]},\"id\":\"38292\",\"type\":\"Row\"},{\"attributes\":{\"below\":[{\"id\":\"38308\"}],\"center\":[{\"id\":\"38311\"},{\"id\":\"38315\"},{\"id\":\"38353\"}],\"height\":400,\"left\":[{\"id\":\"38312\"}],\"margin\":[5,5,5,5],\"min_border_bottom\":10,\"min_border_left\":10,\"min_border_right\":10,\"min_border_top\":10,\"renderers\":[{\"id\":\"38341\"},{\"id\":\"38362\"},{\"id\":\"38384\"}],\"sizing_mode\":\"fixed\",\"title\":{\"id\":\"38300\"},\"toolbar\":{\"id\":\"38322\"},\"width\":800,\"x_range\":{\"id\":\"38294\"},\"x_scale\":{\"id\":\"38304\"},\"y_range\":{\"id\":\"38295\"},\"y_scale\":{\"id\":\"38306\"}},\"id\":\"38299\",\"subtype\":\"Figure\",\"type\":\"Plot\"},{\"attributes\":{\"tools\":[{\"id\":\"38296\"},{\"id\":\"38316\"},{\"id\":\"38317\"},{\"id\":\"38318\"},{\"id\":\"38319\"},{\"id\":\"38320\"}]},\"id\":\"38322\",\"type\":\"Toolbar\"},{\"attributes\":{\"fill_alpha\":0.5,\"fill_color\":\"#30a2da\",\"hatch_alpha\":0.7,\"hatch_color\":\"#30a2da\",\"line_alpha\":0.7,\"x\":{\"field\":\"x\"},\"y\":{\"field\":\"y\"}},\"id\":\"38355\",\"type\":\"Patch\"},{\"attributes\":{},\"id\":\"38350\",\"type\":\"UnionRenderers\"},{\"attributes\":{},\"id\":\"38304\",\"type\":\"LinearScale\"},{\"attributes\":{},\"id\":\"38330\",\"type\":\"BasicTickFormatter\"},{\"attributes\":{\"data\":{\"x\":{\"__ndarray__\":\"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\",\"dtype\":\"float64\",\"order\":\"little\",\"shape\":[200]},\"y\":{\"__ndarray__\":\"AAAAAAAAAAAAAAAAAAAAAAAAAAAAAAAAAAAAAAAAAAAAAAAAAAAAAAAAAAAAAAAAAAAAAAAAAAAAAAAAAAAAAAAAAAAAAAAAAAAAAAAAAAAAAAAAAAAAAAAAAAAAAAAAAAAAAAAAAAAAAAAAAAAAAAAAAAAAAAAAAAAAAAAAAAAAAAAAAAAAAAAAAAAAAAAAAAAAAAAAAAAAAAAAAAAAAAAAAAAAAAAAAAAAAAAAAAAAAAAAAAAAAAAAAAAAAAAAAAAAAAAAAAAAAAAAAAAAAAAAAAAAAAAAAAAAAAAAAAAAAAAAAAAAAAAAAAAAAAAAAAAAAAAAAAAAAAAAAAAAAAAAAAAAAAAAAAAAAAAAAAAAAAAAAAAAAAAAAAAAAAAAAAAAAAAAAAAAAAAAAAAAAAAAAAAAAAAAAAAAAAAAAAAAAAAAAAAAAAAAAAAAAAAAAAAAAAAAAAAAAAAAAAAAAAAAAAAAAAAAAAAAAAAAAAAAAAAAAAAAAAAAAAAAAAAAAAAAAAAAAAAAAAAAAAAAAAAAAAAAAAAAAAAAAAAAAAAAAAAAAAAAAAAAAAAAAAAAAAAAAAAAAAAAAAAAAAAAAAAAAAAAAAAAAAAAAAAAAAAAAAAAAAAAAAAAAAAAAAAAAAAAAAAAAAAAAAAAAAAAAAAAAAAAAAAAAAAAAAAAAAAAAAAAAAAAAAAAAAAAAAAAAAAAAAAAAAAAAAAAAAAAAAAAAAAAAAAAAAAAAAAAAAAAAAAAAAAAAAAAAAAAAAAAAAAAAAAAAAAAAAAAAAAAAAAAAAAAAAAAAAAAAAAAAAAAAAAAAAAAAAAAAAAAAAAAAAAAAAAAAAAAAAAAAAAAAAAAAAAAAAAAAAAAAAAAAAAAAAAAAAAAAAAAAAAAAAAAAAAAAAAAAAAAAAAAAAAAAAAAAAAAAAAAAAAAAAAAAAAAAAAAAAAAAAAAAAAAAAAAAAAAAAAAAAAAAAAAAAAAAAAAAAAAAAAAAAAAAAAAAAAAAAAAAAAAAAAAAAAAAAAAAAAAAAAAAAAAAAAAAAAAAAAAAAAAAAAAAAAAAAAAAABWr2wy2QoQPrn9SXIWRSE+LLcQTeBtMT7xt94by31APn4wHUGzQk0+JGEg7RBXWD67UFHHhPxiPgl4Xb+Jx2s+bGkLogwQcz4kj8p3WIx4PtahPS7IrX0+kcoAH4rcgD4VIVCb/AqCPvGmoJzBQII+5CWgstqVgT4e4n2EqFmAPsD4iHw2/30+ax+S68QBfD6V51cCuHl7PmTh2uIIw3w+3k+FYX7Dfz5M8RUlEvuBPlcbfdj2SIQ+V9DDZGhhhj7/GoCKXvSHPo8RvHlm5og+zkiP/G5eiT5mVpzNaMGJPqFQSyjEm4o+HuyDxGx/jD5u/zZVqOGPPuwvnRlFgpI+ioS3VYT5lT5jW3gDmkeaPuC3Tb+IVZ8+n2R9M0eIoj5cW5Uxn7ilPouC6i9mPak+OfWIVnwZrT6DPCvCeaWwPjxYlqS44rI+lr3xDsU3tT6C8BeyU5K3PnEQhQW23bk+qDB+XXQHvD482Z6KAwS+PhqhxUpg0r8+nmEYmuu+wD4FMi1T447BPspEpZ65acI+GqfhxA1jwz6vyWKNyo7EPq+xHsEI/sU+qNSNSgq8xz7JvrJq48vJPnqPw7E0J8w+BBhOqP29zj6d6oKorLvQPvm8xjqNGdI+Yrllp01m0z7xS2ZomY/UPuHwFfobhtU+5osq6rBA1j7Uyi2Orb7WPty2rYYtCNc+JTmAgOgr1z5pboliDjvXPlsapoByRNc++JVbl4dQ1z53UQuqTF/XPgzP1P6XaNc+WSYTIoFe1z5JWNp/MDHXPiEzzwMQ09Y+9SVF/jU81j4rP1rvAGzVPuGrUfRZaNQ+e/M59ew60z4LsV6bh+3RPrNSok0+h9A+sW+x7ToXzj4GVN46UvjKPtOOIgKKtsc+OdxPr+pdxD5XkEkCIgTBPqOdrhdLjbs+9MNcweGKtT6N2q6dJDmwPqNzDs2Le6c+8bHdhc5NoD4Y1lfx6a+VPrQWf0WkmYs+uH5CXOfIgD4dgU2mun1zPiygU3SrlmU+9dcnrgjJVj5ySv7uleRGPtIyc/al3zU+g79tiLnaIz75bBicBxoRPg==\",\"dtype\":\"float64\",\"order\":\"little\",\"shape\":[200]}},\"selected\":{\"id\":\"38379\"},\"selection_policy\":{\"id\":\"38397\"}},\"id\":\"38378\",\"type\":\"ColumnDataSource\"},{\"attributes\":{},\"id\":\"38306\",\"type\":\"LinearScale\"},{\"attributes\":{},\"id\":\"38333\",\"type\":\"BasicTickFormatter\"},{\"attributes\":{\"fill_alpha\":0.5,\"fill_color\":\"#fc4f30\",\"hatch_alpha\":0.7,\"hatch_color\":\"#fc4f30\",\"line_alpha\":0.7,\"x\":{\"field\":\"x\"},\"y\":{\"field\":\"y\"}},\"id\":\"38359\",\"type\":\"Patch\"},{\"attributes\":{},\"id\":\"38334\",\"type\":\"AllLabels\"},{\"attributes\":{\"data\":{\"x\":{\"__ndarray__\":\"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\",\"dtype\":\"float64\",\"order\":\"little\",\"shape\":[200]},\"y\":{\"__ndarray__\":\"AAAAAAAAAAAAAAAAAAAAAAAAAAAAAAAAAAAAAAAAAAAAAAAAAAAAAAAAAAAAAAAAAAAAAAAAAAAAAAAAAAAAAAAAAAAAAAAAAAAAAAAAAAAAAAAAAAAAAAAAAAAAAAAAAAAAAAAAAAAAAAAAAAAAAAAAAAAAAAAAAAAAAAAAAAAAAAAAAAAAAAAAAAAAAAAAAAAAAAAAAAAAAAAAAAAAAAAAAAAAAAAAAAAAAAAAAAAAAAAAAAAAAAAAAAAAAAAAAAAAAAAAAAAAAAAAAAAAAAAAAAAAAAAAAAAAAAAAAAAAAAAAAAAAAAAAAAAAAAAAAAAAAAAAAAAAAAAAAAAAAAAAAAAAAAAAAAAAAAAAAAAAAAAAAAAAAAAAAAAAAAAAAAAAAAAAAAAAAAAAAAAAAAAAAAAAAAAAAAAAAAAAAAAAAAAAAAAAAAAAAAAAAAAAAAAAAAAAAAAAAAAAAAAAAAAAAAAAAAAAAAAAAAAAAAAAAAAAAAAAAAAAAAAAAAAAAAAAAAAAAAAAAAAAAAAAAAAAAAAAAAAAAAAAAAAAAAAAAAAAAAAAAAAAAAAAAAAAAAAAAAAAAAAAAAAAAAAAAAAAAAAAAAAAAAAAAAAAAAAAAAAAAAAAAAAAAAAAAAAAAAAAAAAAAAAAAAAAAAAAAAAAAAAAAAAAAAAAAAAAAAAAAAAAAAAAAAAAAAAAAAAAAAAAAAAAAAAAAAAAAAAAAAAAAAAAAAAAAAAAAAAAAAAAAAAAAAAAAAAAAAAAAAAAAAAAAAAAAAAAAAAAAAAAAAAAAAAAAAAAAAAAAAAAAAAAAAAAAAAAAAAAAAAAAAAAAAAAAAAAAAAAAAAAAAAAAAAAAAAAAAAAAAAAAAAAAAAAAAAAAAAAAAAAAAAAAAAAAAAAAAAAAAAAAAAAAAAAAAAAAAAAAAAAAAAAAAAAAAAAAAAAAAAAAAAAAAAAAAAAAAAAAAAAAAAAAAAAAAAAAAAAAAAAAAAAAAAAAAAAAAAAAAAAAAAAAAAAAAAAAAAAAAAAAAAAAAAAAAAAAAAAAAAAAAAAAAAAAAAAAAAAAABKtvNB1Uz/PZaM7oCrdBs+7WEJg0eVND7TLYTJG3RKPrXqQrnhQV0+WfpPpUoCbD5EBc2lr2x3PkIzUc07XoE+IRZW9xhYhz7eYtZJnEONPtSR9NubmJE+nE/yiLCmlD6n3VPF97iXPqng6eGyn5o+zK7XnMBZnT62aTq6aiGgPiQ7vRIv9aE+Qz45O9pfpD75OMytSHSnPm0GJbUxMKs+8J4N7MOYrz7Y5BK/qV+yPuJHndN6UbU+jkQK//6GuD6lij7gxsy7Ph/PTDTA774+89vGUZvuwD6LT4F/RlnCPlrnLmlh1sM+h/a2whGAxT5VmNJrfl7HPqe0UyGZbsk+QonisA+xyz7bP53m/ijOPhQ7ECVPZdA+gEi+6lC60T5i6mcMWwHTPvoP1w09M9Q+Y8yRfxZX1T70iW5BOn3WPqz+mGJau9c+gi8qlLsr2T700UjmiuXaPh+yDhuz6tw+Tt37xKsb3z7VVM0FwaLgPt8psLxFouE+1SXMwDyO4j6QsTd8bnfjPsq0l9a6bOQ+mESU00Js5T4JYzHEcWDmPqHqO3skKec+/8tQzDSq5z6lnzq/D9bnPiUAGeNtrec+p8uK4eM05z5uYuWwF2nmPrrJqn8IPOU+K9sWAhqf4z4Hs7iHVJPhPo1D352iZt4+h+UcnJlc2T7GkPmywW/UPtGu0JN1488+1QSuEiYoyD7uDiAsudnBPjiycbvw8Lk+VtgOFyC8sj45LMod8yGrPmZ/mZANu6M+l1jqtPujnD58fPBB4Y6UPn69GAPHD40+XTpQa7V+hD4zJotEWVt+PpXFupHfwHk+0ROG68j1eT5qIcCDMMR8PvBPmnVnl38+UsYeagBDgD6DZWJ3YuR+PpV+SQEKCXs+lEaG6SG+dT7uta4sqtpvPp9/r5piCWU+gg0+yMA8WT6i3qiFaOlNPj2oWZOtZUY+/6B4udXjSD5QfF2HFjRQPt5m2Vl5olM+/tSII/N9VD4Q5gZjbRVSPj7IWegM4Uo+wh0WGv3OQD6NrTFlcK8xPl56g/ulTh8+w/NxtqFPBz7t+3Vu6jPtPQ==\",\"dtype\":\"float64\",\"order\":\"little\",\"shape\":[200]}},\"selected\":{\"id\":\"38357\"},\"selection_policy\":{\"id\":\"38373\"}},\"id\":\"38356\",\"type\":\"ColumnDataSource\"},{\"attributes\":{\"callback\":null,\"renderers\":[{\"id\":\"38341\"},{\"id\":\"38362\"},{\"id\":\"38384\"}],\"tags\":[\"hv_created\"],\"tooltips\":[[\"forecast_flag\",\"@{forecast_flag}\"],[\"residual\",\"@{residual}\"],[\"Density\",\"@{residual_density}\"]]},\"id\":\"38296\",\"type\":\"HoverTool\"},{\"attributes\":{\"fill_alpha\":0.5,\"fill_color\":\"#fc4f30\",\"hatch_alpha\":0.1,\"hatch_color\":\"#fc4f30\",\"line_alpha\":0.7,\"x\":{\"field\":\"x\"},\"y\":{\"field\":\"y\"}},\"id\":\"38360\",\"type\":\"Patch\"},{\"attributes\":{\"fill_alpha\":0.5,\"fill_color\":\"#fc4f30\",\"hatch_alpha\":0.7,\"hatch_color\":\"#fc4f30\",\"line_alpha\":0.7,\"x\":{\"field\":\"x\"},\"y\":{\"field\":\"y\"}},\"id\":\"38377\",\"type\":\"Patch\"},{\"attributes\":{},\"id\":\"38317\",\"type\":\"PanTool\"},{\"attributes\":{\"label\":{\"value\":\"good\"},\"renderers\":[{\"id\":\"38362\"}]},\"id\":\"38376\",\"type\":\"LegendItem\"},{\"attributes\":{},\"id\":\"38357\",\"type\":\"Selection\"},{\"attributes\":{\"source\":{\"id\":\"38356\"}},\"id\":\"38363\",\"type\":\"CDSView\"},{\"attributes\":{},\"id\":\"38397\",\"type\":\"UnionRenderers\"},{\"attributes\":{\"coordinates\":null,\"group\":null,\"text\":\"Residual Density Plot by Forecast Flag\",\"text_color\":\"black\",\"text_font_size\":\"12pt\"},\"id\":\"38300\",\"type\":\"Title\"},{\"attributes\":{\"margin\":[5,5,5,5],\"name\":\"HSpacer120062\",\"sizing_mode\":\"stretch_width\"},\"id\":\"38514\",\"type\":\"Spacer\"},{\"attributes\":{},\"id\":\"38336\",\"type\":\"Selection\"},{\"attributes\":{\"axis\":{\"id\":\"38312\"},\"coordinates\":null,\"dimension\":1,\"grid_line_color\":null,\"group\":null,\"ticker\":null},\"id\":\"38315\",\"type\":\"Grid\"},{\"attributes\":{\"fill_alpha\":0.5,\"fill_color\":\"#30a2da\",\"hatch_alpha\":0.1,\"hatch_color\":\"#30a2da\",\"line_alpha\":0.7,\"x\":{\"field\":\"x\"},\"y\":{\"field\":\"y\"}},\"id\":\"38339\",\"type\":\"Patch\"},{\"attributes\":{\"fill_alpha\":0.2,\"fill_color\":\"#fc4f30\",\"hatch_alpha\":0.2,\"hatch_color\":\"#fc4f30\",\"line_alpha\":0.2,\"x\":{\"field\":\"x\"},\"y\":{\"field\":\"y\"}},\"id\":\"38361\",\"type\":\"Patch\"},{\"attributes\":{},\"id\":\"38379\",\"type\":\"Selection\"},{\"attributes\":{\"coordinates\":null,\"data_source\":{\"id\":\"38356\"},\"glyph\":{\"id\":\"38359\"},\"group\":null,\"hover_glyph\":null,\"muted_glyph\":{\"id\":\"38361\"},\"nonselection_glyph\":{\"id\":\"38360\"},\"selection_glyph\":{\"id\":\"38377\"},\"view\":{\"id\":\"38363\"}},\"id\":\"38362\",\"type\":\"GlyphRenderer\"},{\"attributes\":{\"end\":1.6746264850374266e-05,\"reset_end\":1.6746264850374266e-05,\"reset_start\":0.0,\"tags\":[[[\"residual_density\",\"Density\",null]]]},\"id\":\"38295\",\"type\":\"Range1d\"},{\"attributes\":{\"fill_alpha\":0.5,\"fill_color\":\"#30a2da\",\"hatch_alpha\":0.7,\"hatch_color\":\"#30a2da\",\"line_alpha\":0.7,\"x\":{\"field\":\"x\"},\"y\":{\"field\":\"y\"}},\"id\":\"38338\",\"type\":\"Patch\"},{\"attributes\":{\"fill_alpha\":0.5,\"fill_color\":\"#e5ae38\",\"hatch_alpha\":0.7,\"hatch_color\":\"#e5ae38\",\"line_alpha\":0.7,\"x\":{\"field\":\"x\"},\"y\":{\"field\":\"y\"}},\"id\":\"38381\",\"type\":\"Patch\"},{\"attributes\":{\"axis_label\":\"Residual\",\"coordinates\":null,\"formatter\":{\"id\":\"38330\"},\"group\":null,\"major_label_policy\":{\"id\":\"38331\"},\"ticker\":{\"id\":\"38309\"}},\"id\":\"38308\",\"type\":\"LinearAxis\"},{\"attributes\":{\"coordinates\":null,\"data_source\":{\"id\":\"38335\"},\"glyph\":{\"id\":\"38338\"},\"group\":null,\"hover_glyph\":null,\"muted_glyph\":{\"id\":\"38340\"},\"nonselection_glyph\":{\"id\":\"38339\"},\"selection_glyph\":{\"id\":\"38355\"},\"view\":{\"id\":\"38342\"}},\"id\":\"38341\",\"type\":\"GlyphRenderer\"},{\"attributes\":{},\"id\":\"38309\",\"type\":\"BasicTicker\"},{\"attributes\":{\"axis\":{\"id\":\"38308\"},\"coordinates\":null,\"grid_line_color\":null,\"group\":null,\"ticker\":null},\"id\":\"38311\",\"type\":\"Grid\"},{\"attributes\":{},\"id\":\"38373\",\"type\":\"UnionRenderers\"},{\"attributes\":{},\"id\":\"38331\",\"type\":\"AllLabels\"},{\"attributes\":{\"end\":497578.74123251333,\"reset_end\":497578.74123251333,\"reset_start\":-326024.8902957552,\"start\":-326024.8902957552,\"tags\":[[[\"residual\",\"residual\",null]]]},\"id\":\"38294\",\"type\":\"Range1d\"},{\"attributes\":{\"click_policy\":\"mute\",\"coordinates\":null,\"group\":null,\"items\":[{\"id\":\"38354\"},{\"id\":\"38376\"},{\"id\":\"38400\"}],\"title\":\"forecast_flag\"},\"id\":\"38353\",\"type\":\"Legend\"},{\"attributes\":{},\"id\":\"38313\",\"type\":\"BasicTicker\"},{\"attributes\":{\"axis_label\":\"Density\",\"coordinates\":null,\"formatter\":{\"id\":\"38333\"},\"group\":null,\"major_label_policy\":{\"id\":\"38334\"},\"ticker\":{\"id\":\"38313\"}},\"id\":\"38312\",\"type\":\"LinearAxis\"},{\"attributes\":{\"fill_alpha\":0.5,\"fill_color\":\"#e5ae38\",\"hatch_alpha\":0.7,\"hatch_color\":\"#e5ae38\",\"line_alpha\":0.7,\"x\":{\"field\":\"x\"},\"y\":{\"field\":\"y\"}},\"id\":\"38401\",\"type\":\"Patch\"},{\"attributes\":{\"fill_alpha\":0.5,\"fill_color\":\"#e5ae38\",\"hatch_alpha\":0.1,\"hatch_color\":\"#e5ae38\",\"line_alpha\":0.7,\"x\":{\"field\":\"x\"},\"y\":{\"field\":\"y\"}},\"id\":\"38382\",\"type\":\"Patch\"},{\"attributes\":{\"source\":{\"id\":\"38335\"}},\"id\":\"38342\",\"type\":\"CDSView\"},{\"attributes\":{\"label\":{\"value\":\"under predict\"},\"renderers\":[{\"id\":\"38384\"}]},\"id\":\"38400\",\"type\":\"LegendItem\"},{\"attributes\":{},\"id\":\"38318\",\"type\":\"WheelZoomTool\"},{\"attributes\":{\"fill_alpha\":0.2,\"fill_color\":\"#30a2da\",\"hatch_alpha\":0.2,\"hatch_color\":\"#30a2da\",\"line_alpha\":0.2,\"x\":{\"field\":\"x\"},\"y\":{\"field\":\"y\"}},\"id\":\"38340\",\"type\":\"Patch\"},{\"attributes\":{\"source\":{\"id\":\"38378\"}},\"id\":\"38385\",\"type\":\"CDSView\"},{\"attributes\":{},\"id\":\"38316\",\"type\":\"SaveTool\"},{\"attributes\":{\"data\":{\"x\":{\"__ndarray__\":\"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\",\"dtype\":\"float64\",\"order\":\"little\",\"shape\":[200]},\"y\":{\"__ndarray__\":\"AAAAAAAAAAAAAAAAAAAAAAAAAAAAAAAAAAAAAAAAAAAAAAAAAAAAAAAAAAAAAAAAAAAAAAAAAAAAAAAAAAAAAAAAAAAAAAAAAAAAAAAAAAAAAAAAAAAAAAAAAAAAAAAAAAAAAAAAAAAAAAAAAAAAAAAAAAAAAAAAAAAAAAAAAAAAAAAAAAAAAAAAAAAAAAAAAAAAAAAAAAAAAAAAAAAAAAAAAAAAAAAAAAAAAAAAAAAAAAAAAAAAAAAAAAAAAAAAAAAAAAAAAAAAAAAAAAAAAAAAAAAAAAAAAAAAAAAAAAAAAAAAAAAAAAAAAAAAAAAAAAAAAAAAAAAAAAAAAAAAAAAAAAAAAAAAAAAAAAAAAAAAAAAAAAAAAAAAAAAAAAAAAAAAAAAAAAAAAAAAAAAAAAAAAAAAAAAAAAAAAAAAAAAAAAAAAAAAAAAAAAAAAAAAAAAAAAAAAAAAAAAAAAAAAAAAAAAAAAAAAAAAAAAAAAAAAAAAAAAAAAAAAAAAAAAAAAAAAAAAAAAAAAAAAAAAAAAAAAAAAAAAAAAAAAAAAAAAAAAAAAAAAAAAAAAAAAAAAAAAAAAAAAAAAAAAAAAAAAAAAAAAAAAAAAAAAAAAAAAAAAAAAAAAAAAAAAAAAAAAAAAAAAAAAAAAAAAAAAAAAAAAAAAAAAAAAAAAAAAAAAAAAAAAAAAAAAAAAAAAAAAAAAAAAAAAAAAAAAAAAAAAAAAAAAAAAAAAAAAAAAAAAAAAAAAAAAAAAAAAAAAAAAAAAAAAAAAAAAAAAAAAAAAAAAAAAAAAAAAAAAAAAAAAAAAAAAAAAAAAAAAAAAAAAAAAAAAAAAAAAAAAAAAAAAAAAAAAAAAAAAAAAAAAAAAAAAAAAAAAAAAAAAAAAAAAAAAAAAAAAAAAAAAAAAAAAAAAAAAAAAAAAAAAAAAAAAAAAAAAAAAAAAAAAAAAAAAAAAAAAAAAAAAAAAAAAAAAAAAAAAAAAAAAAAAAAAAAAAAAAAAAAAAAAAAAAAAAAAAAAAAAAAAAAAAAAAAAAAAAAAAAAAAAAAAAAAAAAAAAAAAAAADpB8nSV/MlPv4uzRpm00I+zbij4qZmXD6OvMbpR+5yPqZBPvTrcIY+5BGCMNTYlz67LPvyc/CmPkakslVpMbQ+fN9RVohxwD6HpWtRSALJPhm+oFs65NE+eQ7HeBI42D4HwWAysivfPrybbJJaK+M+AQQb4Qmm5j4zYGGqJdHpPlZSZzFMeew+zzCgt+5v7j632vUe95bvPpjvcGVE7e8+mXBD/cKP7z6DRZmfs6vuPvmjAoKqa+0+uvyPCxXs6z70D+8VuzvqPtayofUjY+g+L2tbneZr5j5+x1P162TkPli2Hc2AY+I+dTaBmpWA4D7oZpJAMKPdPvOoyCLovto+Fvvr69NC2D63euIcsQDWPnP+gTnOw9M+5KzKzj9r0T7ywV0y7PHNPtg02aaJG8k+qWuD0SStxD7Y9ZR98e3APt+2+SnA8rs+KQ8BGCV/tz5nEDuw0y+0Pu8/DBTorLE+CaV9DRBhrz6TAaeLRBSsPvyOqoXSMak+HFpBu3iRpj6W+qlRWCOkPkNT5Nei66E+FUmXm1j1nz5g49WJO8qcPsi/aujDcZo+PSj3ugbWmD4jeeul75KXPnwifkSTCpY+Ib1xtQ2zkz5LBsnsBm6QPvWfUQSMUok+tDY2IW9mgj6MaDJv5ph7PmJcH3FQbXk+0pkePVrlfj48SQaHJjuFPhiFPpZSRow+Nt26kiQckT55o5q9jn2SPvfLxDfp0pE+oSsK8Tjujj4AQwU/EtyIPg6SI+Dp4oM+Zb8AwfvRgT7TA3Es3A+DPodWYUVneIY+Xc1LSDT9iT6WpwNU/siLPmLPpn8gPYs+cMtspeQdiT6QVbe1j9uGPtPzWGm9l4U+djgDB0+bhT5KWRmp/WqGPsnERoQwMIc+U2K+IFsmhz62iq1NG+2FPpvMBg3vroM+Zg6bVkgGgT7hgNRHuEZ9Pr+InBhKzXk+z2E0x5hqdz5j2gXOsEN1PmDXam6UhnI+hl3ZXMTkbT5idtleDdJlPub10wqtaFw+/GtTrdRXUD6sTt9h44NAPvClI6yPLy0+Z3JWcZ55Fj75JSyrmRf+PQ==\",\"dtype\":\"float64\",\"order\":\"little\",\"shape\":[200]}},\"selected\":{\"id\":\"38336\"},\"selection_policy\":{\"id\":\"38350\"}},\"id\":\"38335\",\"type\":\"ColumnDataSource\"},{\"attributes\":{\"fill_alpha\":0.2,\"fill_color\":\"#e5ae38\",\"hatch_alpha\":0.2,\"hatch_color\":\"#e5ae38\",\"line_alpha\":0.2,\"x\":{\"field\":\"x\"},\"y\":{\"field\":\"y\"}},\"id\":\"38383\",\"type\":\"Patch\"},{\"attributes\":{\"overlay\":{\"id\":\"38321\"}},\"id\":\"38319\",\"type\":\"BoxZoomTool\"},{\"attributes\":{\"coordinates\":null,\"data_source\":{\"id\":\"38378\"},\"glyph\":{\"id\":\"38381\"},\"group\":null,\"hover_glyph\":null,\"muted_glyph\":{\"id\":\"38383\"},\"nonselection_glyph\":{\"id\":\"38382\"},\"selection_glyph\":{\"id\":\"38401\"},\"view\":{\"id\":\"38385\"}},\"id\":\"38384\",\"type\":\"GlyphRenderer\"},{\"attributes\":{},\"id\":\"38320\",\"type\":\"ResetTool\"},{\"attributes\":{\"margin\":[5,5,5,5],\"name\":\"HSpacer120061\",\"sizing_mode\":\"stretch_width\"},\"id\":\"38293\",\"type\":\"Spacer\"},{\"attributes\":{\"bottom_units\":\"screen\",\"coordinates\":null,\"fill_alpha\":0.5,\"fill_color\":\"lightgrey\",\"group\":null,\"left_units\":\"screen\",\"level\":\"overlay\",\"line_alpha\":1.0,\"line_color\":\"black\",\"line_dash\":[4,4],\"line_width\":2,\"right_units\":\"screen\",\"syncable\":false,\"top_units\":\"screen\"},\"id\":\"38321\",\"type\":\"BoxAnnotation\"}],\"root_ids\":[\"38292\"]},\"title\":\"Bokeh Application\",\"version\":\"2.4.3\"}};\n",
       "    var render_items = [{\"docid\":\"2ee2ad20-b0b4-4a48-a22e-b7562acae1a8\",\"root_ids\":[\"38292\"],\"roots\":{\"38292\":\"cee8541c-b110-4a59-9397-63e398f6575e\"}}];\n",
       "    root.Bokeh.embed.embed_items_notebook(docs_json, render_items);\n",
       "  }\n",
       "  if (root.Bokeh !== undefined && root.Bokeh.Panel !== undefined) {\n",
       "    embed_document(root);\n",
       "  } else {\n",
       "    var attempts = 0;\n",
       "    var timer = setInterval(function(root) {\n",
       "      if (root.Bokeh !== undefined && root.Bokeh.Panel !== undefined) {\n",
       "        clearInterval(timer);\n",
       "        embed_document(root);\n",
       "      } else if (document.readyState == \"complete\") {\n",
       "        attempts++;\n",
       "        if (attempts > 200) {\n",
       "          clearInterval(timer);\n",
       "          console.log(\"Bokeh: ERROR: Unable to run BokehJS code because BokehJS library is missing\");\n",
       "        }\n",
       "      }\n",
       "    }, 25, root)\n",
       "  }\n",
       "})(window);</script>"
      ],
      "text/plain": [
       ":NdOverlay   [forecast_flag]\n",
       "   :Distribution   [residual]   (Density)"
      ]
     },
     "execution_count": 128,
     "metadata": {
      "application/vnd.holoviews_exec.v0+json": {
       "id": "38292"
      }
     },
     "output_type": "execute_result"
    }
   ],
   "source": [
    "\n",
    "residual_analysis.hvplot.kde(\n",
    "    y=\"residual\",\n",
    "    by=\"forecast_flag\",  # Group by forecasted vs actuals or whatever flag represents\n",
    "    width=800,\n",
    "    height=400,\n",
    "    alpha=0.7,\n",
    "    ylabel=\"Density\",\n",
    "    xlabel=\"Residual\",\n",
    "    title=\"Residual Density Plot by Forecast Flag\",\n",
    "    legend='top_right'\n",
    ")\n"
   ]
  },
  {
   "cell_type": "markdown",
   "metadata": {},
   "source": [
    "- From the above plot we can infer that the higher \"over predictions\" are happening for unit_cost > 200.\n",
    "- similarly, the higher \"under predictions\" are happening for unit_cost is zero.\n",
    "\n",
    "This can help us tune the model by a separate model for unit_cost > 200\n"
   ]
  },
  {
   "cell_type": "markdown",
   "metadata": {},
   "source": [
    "# 4.2 Modelling - XGBoost"
   ]
  },
  {
   "cell_type": "markdown",
   "metadata": {},
   "source": [
    "## 4.2.1 Model training pipeline\n",
    "\n",
    "Here we focus on creating a collection of pipelines that can be used for tranining respective models.\n",
    "\n",
    "Each model pipeline will essentially be of the form\n",
    "```\n",
    "[\n",
    "('preprocessing', preprocessing_pipeline),\n",
    "('feature_selection', feature_selection_pipeline),\n",
    "('estimator', estimator),\n",
    "]\n",
    "```"
   ]
  },
  {
   "cell_type": "markdown",
   "metadata": {},
   "source": [
    "### 4.2.2 Model Pipeline Build"
   ]
  },
  {
   "cell_type": "code",
   "execution_count": 132,
   "metadata": {},
   "outputs": [],
   "source": [
    "train_y[\"median_house_value\"] = train_y[\"median_house_value\"].astype(\"int64\")"
   ]
  },
  {
   "cell_type": "code",
   "execution_count": 133,
   "metadata": {},
   "outputs": [
    {
     "data": {
      "text/html": [
       "<style>#sk-container-id-10 {color: black;background-color: white;}#sk-container-id-10 pre{padding: 0;}#sk-container-id-10 div.sk-toggleable {background-color: white;}#sk-container-id-10 label.sk-toggleable__label {cursor: pointer;display: block;width: 100%;margin-bottom: 0;padding: 0.3em;box-sizing: border-box;text-align: center;}#sk-container-id-10 label.sk-toggleable__label-arrow:before {content: \"▸\";float: left;margin-right: 0.25em;color: #696969;}#sk-container-id-10 label.sk-toggleable__label-arrow:hover:before {color: black;}#sk-container-id-10 div.sk-estimator:hover label.sk-toggleable__label-arrow:before {color: black;}#sk-container-id-10 div.sk-toggleable__content {max-height: 0;max-width: 0;overflow: hidden;text-align: left;background-color: #f0f8ff;}#sk-container-id-10 div.sk-toggleable__content pre {margin: 0.2em;color: black;border-radius: 0.25em;background-color: #f0f8ff;}#sk-container-id-10 input.sk-toggleable__control:checked~div.sk-toggleable__content {max-height: 200px;max-width: 100%;overflow: auto;}#sk-container-id-10 input.sk-toggleable__control:checked~label.sk-toggleable__label-arrow:before {content: \"▾\";}#sk-container-id-10 div.sk-estimator input.sk-toggleable__control:checked~label.sk-toggleable__label {background-color: #d4ebff;}#sk-container-id-10 div.sk-label input.sk-toggleable__control:checked~label.sk-toggleable__label {background-color: #d4ebff;}#sk-container-id-10 input.sk-hidden--visually {border: 0;clip: rect(1px 1px 1px 1px);clip: rect(1px, 1px, 1px, 1px);height: 1px;margin: -1px;overflow: hidden;padding: 0;position: absolute;width: 1px;}#sk-container-id-10 div.sk-estimator {font-family: monospace;background-color: #f0f8ff;border: 1px dotted black;border-radius: 0.25em;box-sizing: border-box;margin-bottom: 0.5em;}#sk-container-id-10 div.sk-estimator:hover {background-color: #d4ebff;}#sk-container-id-10 div.sk-parallel-item::after {content: \"\";width: 100%;border-bottom: 1px solid gray;flex-grow: 1;}#sk-container-id-10 div.sk-label:hover label.sk-toggleable__label {background-color: #d4ebff;}#sk-container-id-10 div.sk-serial::before {content: \"\";position: absolute;border-left: 1px solid gray;box-sizing: border-box;top: 0;bottom: 0;left: 50%;z-index: 0;}#sk-container-id-10 div.sk-serial {display: flex;flex-direction: column;align-items: center;background-color: white;padding-right: 0.2em;padding-left: 0.2em;position: relative;}#sk-container-id-10 div.sk-item {position: relative;z-index: 1;}#sk-container-id-10 div.sk-parallel {display: flex;align-items: stretch;justify-content: center;background-color: white;position: relative;}#sk-container-id-10 div.sk-item::before, #sk-container-id-10 div.sk-parallel-item::before {content: \"\";position: absolute;border-left: 1px solid gray;box-sizing: border-box;top: 0;bottom: 0;left: 50%;z-index: -1;}#sk-container-id-10 div.sk-parallel-item {display: flex;flex-direction: column;z-index: 1;position: relative;background-color: white;}#sk-container-id-10 div.sk-parallel-item:first-child::after {align-self: flex-end;width: 50%;}#sk-container-id-10 div.sk-parallel-item:last-child::after {align-self: flex-start;width: 50%;}#sk-container-id-10 div.sk-parallel-item:only-child::after {width: 0;}#sk-container-id-10 div.sk-dashed-wrapped {border: 1px dashed gray;margin: 0 0.4em 0.5em 0.4em;box-sizing: border-box;padding-bottom: 0.4em;background-color: white;}#sk-container-id-10 div.sk-label label {font-family: monospace;font-weight: bold;display: inline-block;line-height: 1.2em;}#sk-container-id-10 div.sk-label-container {text-align: center;}#sk-container-id-10 div.sk-container {/* jupyter's `normalize.less` sets `[hidden] { display: none; }` but bootstrap.min.css set `[hidden] { display: none !important; }` so we also need the `!important` here to be able to override the default hidden behavior on the sphinx rendered scikit-learn.org. See: https://github.com/scikit-learn/scikit-learn/issues/21755 */display: inline-block !important;position: relative;}#sk-container-id-10 div.sk-text-repr-fallback {display: none;}</style><div id=\"sk-container-id-10\" class=\"sk-top-container\"><div class=\"sk-text-repr-fallback\"><pre>Pipeline(steps=[(&#x27;XGBoost&#x27;,\n",
       "                 XGBRegressor(base_score=0.5, booster=&#x27;gbtree&#x27;,\n",
       "                              colsample_bylevel=1, colsample_bynode=1,\n",
       "                              colsample_bytree=1, enable_categorical=False,\n",
       "                              gamma=0, gpu_id=-1, importance_type=None,\n",
       "                              interaction_constraints=&#x27;&#x27;,\n",
       "                              learning_rate=0.300000012, max_delta_step=0,\n",
       "                              max_depth=6, min_child_weight=1, missing=nan,\n",
       "                              monotone_constraints=&#x27;()&#x27;, n_estimators=100,\n",
       "                              n_jobs=14, num_parallel_tree=1, predictor=&#x27;auto&#x27;,\n",
       "                              random_state=0, reg_alpha=0, reg_lambda=1,\n",
       "                              scale_pos_weight=1, subsample=1,\n",
       "                              tree_method=&#x27;exact&#x27;, validate_parameters=1,\n",
       "                              verbosity=None))])</pre><b>In a Jupyter environment, please rerun this cell to show the HTML representation or trust the notebook. <br />On GitHub, the HTML representation is unable to render, please try loading this page with nbviewer.org.</b></div><div class=\"sk-container\" hidden><div class=\"sk-item sk-dashed-wrapped\"><div class=\"sk-label-container\"><div class=\"sk-label sk-toggleable\"><input class=\"sk-toggleable__control sk-hidden--visually\" id=\"sk-estimator-id-28\" type=\"checkbox\" ><label for=\"sk-estimator-id-28\" class=\"sk-toggleable__label sk-toggleable__label-arrow\">Pipeline</label><div class=\"sk-toggleable__content\"><pre>Pipeline(steps=[(&#x27;XGBoost&#x27;,\n",
       "                 XGBRegressor(base_score=0.5, booster=&#x27;gbtree&#x27;,\n",
       "                              colsample_bylevel=1, colsample_bynode=1,\n",
       "                              colsample_bytree=1, enable_categorical=False,\n",
       "                              gamma=0, gpu_id=-1, importance_type=None,\n",
       "                              interaction_constraints=&#x27;&#x27;,\n",
       "                              learning_rate=0.300000012, max_delta_step=0,\n",
       "                              max_depth=6, min_child_weight=1, missing=nan,\n",
       "                              monotone_constraints=&#x27;()&#x27;, n_estimators=100,\n",
       "                              n_jobs=14, num_parallel_tree=1, predictor=&#x27;auto&#x27;,\n",
       "                              random_state=0, reg_alpha=0, reg_lambda=1,\n",
       "                              scale_pos_weight=1, subsample=1,\n",
       "                              tree_method=&#x27;exact&#x27;, validate_parameters=1,\n",
       "                              verbosity=None))])</pre></div></div></div><div class=\"sk-serial\"><div class=\"sk-item\"><div class=\"sk-estimator sk-toggleable\"><input class=\"sk-toggleable__control sk-hidden--visually\" id=\"sk-estimator-id-29\" type=\"checkbox\" ><label for=\"sk-estimator-id-29\" class=\"sk-toggleable__label sk-toggleable__label-arrow\">XGBRegressor</label><div class=\"sk-toggleable__content\"><pre>XGBRegressor(base_score=0.5, booster=&#x27;gbtree&#x27;, colsample_bylevel=1,\n",
       "             colsample_bynode=1, colsample_bytree=1, enable_categorical=False,\n",
       "             gamma=0, gpu_id=-1, importance_type=None,\n",
       "             interaction_constraints=&#x27;&#x27;, learning_rate=0.300000012,\n",
       "             max_delta_step=0, max_depth=6, min_child_weight=1, missing=nan,\n",
       "             monotone_constraints=&#x27;()&#x27;, n_estimators=100, n_jobs=14,\n",
       "             num_parallel_tree=1, predictor=&#x27;auto&#x27;, random_state=0, reg_alpha=0,\n",
       "             reg_lambda=1, scale_pos_weight=1, subsample=1, tree_method=&#x27;exact&#x27;,\n",
       "             validate_parameters=1, verbosity=None)</pre></div></div></div></div></div></div></div>"
      ],
      "text/plain": [
       "Pipeline(steps=[('XGBoost',\n",
       "                 XGBRegressor(base_score=0.5, booster='gbtree',\n",
       "                              colsample_bylevel=1, colsample_bynode=1,\n",
       "                              colsample_bytree=1, enable_categorical=False,\n",
       "                              gamma=0, gpu_id=-1, importance_type=None,\n",
       "                              interaction_constraints='',\n",
       "                              learning_rate=0.300000012, max_delta_step=0,\n",
       "                              max_depth=6, min_child_weight=1, missing=nan,\n",
       "                              monotone_constraints='()', n_estimators=100,\n",
       "                              n_jobs=14, num_parallel_tree=1, predictor='auto',\n",
       "                              random_state=0, reg_alpha=0, reg_lambda=1,\n",
       "                              scale_pos_weight=1, subsample=1,\n",
       "                              tree_method='exact', validate_parameters=1,\n",
       "                              verbosity=None))])"
      ]
     },
     "execution_count": 133,
     "metadata": {},
     "output_type": "execute_result"
    }
   ],
   "source": [
    "# let's find features for some decent defaults\n",
    "estimator = XGBRegressor()\n",
    "xgb_training_pipe_init = Pipeline([\n",
    "    ('XGBoost', XGBRegressor())\n",
    "])\n",
    "xgb_training_pipe_init.fit(train_X, train_y)"
   ]
  },
  {
   "attachments": {},
   "cell_type": "markdown",
   "metadata": {},
   "source": [
    "### 4.2.3 Model Tuning"
   ]
  },
  {
   "cell_type": "code",
   "execution_count": 134,
   "metadata": {},
   "outputs": [
    {
     "data": {
      "text/plain": [
       "<AxesSubplot:>"
      ]
     },
     "execution_count": 134,
     "metadata": {},
     "output_type": "execute_result"
    },
    {
     "data": {
      "image/png": "[encoded data removed]",
      "text/plain": [
       "<Figure size 640x480 with 1 Axes>"
      ]
     },
     "metadata": {},
     "output_type": "display_data"
    }
   ],
   "source": [
    "# Understanding the Feature Importance\n",
    "%matplotlib inline\n",
    "imp = pd.DataFrame({'importance': xgb_training_pipe_init['XGBoost'].feature_importances_})\n",
    "imp.index = train_X.columns\n",
    "imp.sort_values('importance',inplace=True)\n",
    "imp.plot(kind='barh')"
   ]
  },
  {
   "attachments": {},
   "cell_type": "markdown",
   "metadata": {},
   "source": [
    "'condition','model_family','days_since_last_purchase','first_time_customer','sales_person', are considered to be important and in grid search"
   ]
  },
  {
   "attachments": {},
   "cell_type": "markdown",
   "metadata": {},
   "source": [
    "##### Pipeline build based on new importance features"
   ]
  },
  {
   "cell_type": "code",
   "execution_count": 141,
   "metadata": {},
   "outputs": [],
   "source": [
    "# let's find features for some decent defaults\n",
    "imp_features = ['median_income','population_per_household','latitude','longitude','housing_median_age','bedrooms_per_room','rooms_per_household']\n",
    "\n",
    "estimator = XGBRegressor()\n",
    "xgb_training_pipe2 = Pipeline([\n",
    "    ('', FunctionTransformer(_custom_data_transform, kw_args={'cols2keep':imp_features})),\n",
    "    ('XGBoost', XGBRegressor())\n",
    "])"
   ]
  },
  {
   "attachments": {},
   "cell_type": "markdown",
   "metadata": {},
   "source": [
    "#### Grid Search of the Estimator"
   ]
  },
  {
   "cell_type": "code",
   "execution_count": 142,
   "metadata": {},
   "outputs": [
    {
     "name": "stdout",
     "output_type": "stream",
     "text": [
      "Fitting 2 folds for each of 1 candidates, totalling 2 fits\n"
     ]
    },
    {
     "name": "stderr",
     "output_type": "stream",
     "text": [
      "/home/sanju/.local/lib/python3.10/site-packages/xgboost/data.py:262: FutureWarning: pandas.Int64Index is deprecated and will be removed from pandas in a future version. Use pandas.Index with the appropriate dtype instead.\n",
      "  elif isinstance(data.columns, (pd.Int64Index, pd.RangeIndex)):\n",
      "/home/sanju/.local/lib/python3.10/site-packages/xgboost/data.py:262: FutureWarning: pandas.Int64Index is deprecated and will be removed from pandas in a future version. Use pandas.Index with the appropriate dtype instead.\n",
      "  elif isinstance(data.columns, (pd.Int64Index, pd.RangeIndex)):\n"
     ]
    },
    {
     "name": "stdout",
     "output_type": "stream",
     "text": [
      "0.8207249860548911\n",
      "{'gamma': 0.03, 'learning_rate': 0.1, 'max_depth': 3, 'min_child_weight': 6, 'n_estimators': 500}\n",
      "CPU times: user 11min 17s, sys: 981 ms, total: 11min 18s\n",
      "Wall time: 5min 23s\n"
     ]
    }
   ],
   "source": [
    "%%time\n",
    "parameters = {\n",
    "   'gamma':[0.03],\n",
    "   'min_child_weight':[6],\n",
    "   'learning_rate':[0.1],\n",
    "   'max_depth':[3],\n",
    "   'n_estimators':[500], \n",
    "}\n",
    "est = XGBRegressor()\n",
    "xgb_grid = GridSearchCV(est,\n",
    "                        parameters,\n",
    "                        cv = 2,\n",
    "                        n_jobs = 4,\n",
    "                        verbose=True)\n",
    "\n",
    "xgb_grid.fit(train_X, train_y)\n",
    "\n",
    "print(xgb_grid.best_score_)\n",
    "print(xgb_grid.best_params_)"
   ]
  },
  {
   "attachments": {},
   "cell_type": "markdown",
   "metadata": {},
   "source": [
    "#### Pipeline Build using the best estimator"
   ]
  },
  {
   "cell_type": "code",
   "execution_count": 143,
   "metadata": {},
   "outputs": [
    {
     "data": {
      "text/html": [
       "<style>#sk-container-id-11 {color: black;background-color: white;}#sk-container-id-11 pre{padding: 0;}#sk-container-id-11 div.sk-toggleable {background-color: white;}#sk-container-id-11 label.sk-toggleable__label {cursor: pointer;display: block;width: 100%;margin-bottom: 0;padding: 0.3em;box-sizing: border-box;text-align: center;}#sk-container-id-11 label.sk-toggleable__label-arrow:before {content: \"▸\";float: left;margin-right: 0.25em;color: #696969;}#sk-container-id-11 label.sk-toggleable__label-arrow:hover:before {color: black;}#sk-container-id-11 div.sk-estimator:hover label.sk-toggleable__label-arrow:before {color: black;}#sk-container-id-11 div.sk-toggleable__content {max-height: 0;max-width: 0;overflow: hidden;text-align: left;background-color: #f0f8ff;}#sk-container-id-11 div.sk-toggleable__content pre {margin: 0.2em;color: black;border-radius: 0.25em;background-color: #f0f8ff;}#sk-container-id-11 input.sk-toggleable__control:checked~div.sk-toggleable__content {max-height: 200px;max-width: 100%;overflow: auto;}#sk-container-id-11 input.sk-toggleable__control:checked~label.sk-toggleable__label-arrow:before {content: \"▾\";}#sk-container-id-11 div.sk-estimator input.sk-toggleable__control:checked~label.sk-toggleable__label {background-color: #d4ebff;}#sk-container-id-11 div.sk-label input.sk-toggleable__control:checked~label.sk-toggleable__label {background-color: #d4ebff;}#sk-container-id-11 input.sk-hidden--visually {border: 0;clip: rect(1px 1px 1px 1px);clip: rect(1px, 1px, 1px, 1px);height: 1px;margin: -1px;overflow: hidden;padding: 0;position: absolute;width: 1px;}#sk-container-id-11 div.sk-estimator {font-family: monospace;background-color: #f0f8ff;border: 1px dotted black;border-radius: 0.25em;box-sizing: border-box;margin-bottom: 0.5em;}#sk-container-id-11 div.sk-estimator:hover {background-color: #d4ebff;}#sk-container-id-11 div.sk-parallel-item::after {content: \"\";width: 100%;border-bottom: 1px solid gray;flex-grow: 1;}#sk-container-id-11 div.sk-label:hover label.sk-toggleable__label {background-color: #d4ebff;}#sk-container-id-11 div.sk-serial::before {content: \"\";position: absolute;border-left: 1px solid gray;box-sizing: border-box;top: 0;bottom: 0;left: 50%;z-index: 0;}#sk-container-id-11 div.sk-serial {display: flex;flex-direction: column;align-items: center;background-color: white;padding-right: 0.2em;padding-left: 0.2em;position: relative;}#sk-container-id-11 div.sk-item {position: relative;z-index: 1;}#sk-container-id-11 div.sk-parallel {display: flex;align-items: stretch;justify-content: center;background-color: white;position: relative;}#sk-container-id-11 div.sk-item::before, #sk-container-id-11 div.sk-parallel-item::before {content: \"\";position: absolute;border-left: 1px solid gray;box-sizing: border-box;top: 0;bottom: 0;left: 50%;z-index: -1;}#sk-container-id-11 div.sk-parallel-item {display: flex;flex-direction: column;z-index: 1;position: relative;background-color: white;}#sk-container-id-11 div.sk-parallel-item:first-child::after {align-self: flex-end;width: 50%;}#sk-container-id-11 div.sk-parallel-item:last-child::after {align-self: flex-start;width: 50%;}#sk-container-id-11 div.sk-parallel-item:only-child::after {width: 0;}#sk-container-id-11 div.sk-dashed-wrapped {border: 1px dashed gray;margin: 0 0.4em 0.5em 0.4em;box-sizing: border-box;padding-bottom: 0.4em;background-color: white;}#sk-container-id-11 div.sk-label label {font-family: monospace;font-weight: bold;display: inline-block;line-height: 1.2em;}#sk-container-id-11 div.sk-label-container {text-align: center;}#sk-container-id-11 div.sk-container {/* jupyter's `normalize.less` sets `[hidden] { display: none; }` but bootstrap.min.css set `[hidden] { display: none !important; }` so we also need the `!important` here to be able to override the default hidden behavior on the sphinx rendered scikit-learn.org. See: https://github.com/scikit-learn/scikit-learn/issues/21755 */display: inline-block !important;position: relative;}#sk-container-id-11 div.sk-text-repr-fallback {display: none;}</style><div id=\"sk-container-id-11\" class=\"sk-top-container\"><div class=\"sk-text-repr-fallback\"><pre>Pipeline(steps=[(&#x27;&#x27;,\n",
       "                 FunctionTransformer(func=&lt;function _custom_data_transform at 0x7f9223896950&gt;,\n",
       "                                     kw_args={&#x27;cols2keep&#x27;: [&#x27;median_income&#x27;,\n",
       "                                                            &#x27;population_per_household&#x27;,\n",
       "                                                            &#x27;latitude&#x27;,\n",
       "                                                            &#x27;longitude&#x27;,\n",
       "                                                            &#x27;housing_median_age&#x27;,\n",
       "                                                            &#x27;bedrooms_per_room&#x27;,\n",
       "                                                            &#x27;rooms_per_household&#x27;]})),\n",
       "                (&#x27;XGBoost&#x27;,\n",
       "                 XGBRegressor(base_score=0.5, booster=&#x27;gbtree&#x27;,\n",
       "                              colsample_bylevel=1, colsample_bynode=1,\n",
       "                              colsam...\n",
       "                              gamma=0.03, gpu_id=-1, importance_type=None,\n",
       "                              interaction_constraints=&#x27;&#x27;, learning_rate=0.1,\n",
       "                              max_delta_step=0, max_depth=3, min_child_weight=6,\n",
       "                              missing=nan, monotone_constraints=&#x27;()&#x27;,\n",
       "                              n_estimators=500, n_jobs=14, num_parallel_tree=1,\n",
       "                              predictor=&#x27;auto&#x27;, random_state=0, reg_alpha=0,\n",
       "                              reg_lambda=1, scale_pos_weight=1, subsample=1,\n",
       "                              tree_method=&#x27;exact&#x27;, validate_parameters=1,\n",
       "                              verbosity=None))])</pre><b>In a Jupyter environment, please rerun this cell to show the HTML representation or trust the notebook. <br />On GitHub, the HTML representation is unable to render, please try loading this page with nbviewer.org.</b></div><div class=\"sk-container\" hidden><div class=\"sk-item sk-dashed-wrapped\"><div class=\"sk-label-container\"><div class=\"sk-label sk-toggleable\"><input class=\"sk-toggleable__control sk-hidden--visually\" id=\"sk-estimator-id-30\" type=\"checkbox\" ><label for=\"sk-estimator-id-30\" class=\"sk-toggleable__label sk-toggleable__label-arrow\">Pipeline</label><div class=\"sk-toggleable__content\"><pre>Pipeline(steps=[(&#x27;&#x27;,\n",
       "                 FunctionTransformer(func=&lt;function _custom_data_transform at 0x7f9223896950&gt;,\n",
       "                                     kw_args={&#x27;cols2keep&#x27;: [&#x27;median_income&#x27;,\n",
       "                                                            &#x27;population_per_household&#x27;,\n",
       "                                                            &#x27;latitude&#x27;,\n",
       "                                                            &#x27;longitude&#x27;,\n",
       "                                                            &#x27;housing_median_age&#x27;,\n",
       "                                                            &#x27;bedrooms_per_room&#x27;,\n",
       "                                                            &#x27;rooms_per_household&#x27;]})),\n",
       "                (&#x27;XGBoost&#x27;,\n",
       "                 XGBRegressor(base_score=0.5, booster=&#x27;gbtree&#x27;,\n",
       "                              colsample_bylevel=1, colsample_bynode=1,\n",
       "                              colsam...\n",
       "                              gamma=0.03, gpu_id=-1, importance_type=None,\n",
       "                              interaction_constraints=&#x27;&#x27;, learning_rate=0.1,\n",
       "                              max_delta_step=0, max_depth=3, min_child_weight=6,\n",
       "                              missing=nan, monotone_constraints=&#x27;()&#x27;,\n",
       "                              n_estimators=500, n_jobs=14, num_parallel_tree=1,\n",
       "                              predictor=&#x27;auto&#x27;, random_state=0, reg_alpha=0,\n",
       "                              reg_lambda=1, scale_pos_weight=1, subsample=1,\n",
       "                              tree_method=&#x27;exact&#x27;, validate_parameters=1,\n",
       "                              verbosity=None))])</pre></div></div></div><div class=\"sk-serial\"><div class=\"sk-item\"><div class=\"sk-estimator sk-toggleable\"><input class=\"sk-toggleable__control sk-hidden--visually\" id=\"sk-estimator-id-31\" type=\"checkbox\" ><label for=\"sk-estimator-id-31\" class=\"sk-toggleable__label sk-toggleable__label-arrow\">FunctionTransformer</label><div class=\"sk-toggleable__content\"><pre>FunctionTransformer(func=&lt;function _custom_data_transform at 0x7f9223896950&gt;,\n",
       "                    kw_args={&#x27;cols2keep&#x27;: [&#x27;median_income&#x27;,\n",
       "                                           &#x27;population_per_household&#x27;,\n",
       "                                           &#x27;latitude&#x27;, &#x27;longitude&#x27;,\n",
       "                                           &#x27;housing_median_age&#x27;,\n",
       "                                           &#x27;bedrooms_per_room&#x27;,\n",
       "                                           &#x27;rooms_per_household&#x27;]})</pre></div></div></div><div class=\"sk-item\"><div class=\"sk-estimator sk-toggleable\"><input class=\"sk-toggleable__control sk-hidden--visually\" id=\"sk-estimator-id-32\" type=\"checkbox\" ><label for=\"sk-estimator-id-32\" class=\"sk-toggleable__label sk-toggleable__label-arrow\">XGBRegressor</label><div class=\"sk-toggleable__content\"><pre>XGBRegressor(base_score=0.5, booster=&#x27;gbtree&#x27;, colsample_bylevel=1,\n",
       "             colsample_bynode=1, colsample_bytree=1, enable_categorical=False,\n",
       "             gamma=0.03, gpu_id=-1, importance_type=None,\n",
       "             interaction_constraints=&#x27;&#x27;, learning_rate=0.1, max_delta_step=0,\n",
       "             max_depth=3, min_child_weight=6, missing=nan,\n",
       "             monotone_constraints=&#x27;()&#x27;, n_estimators=500, n_jobs=14,\n",
       "             num_parallel_tree=1, predictor=&#x27;auto&#x27;, random_state=0, reg_alpha=0,\n",
       "             reg_lambda=1, scale_pos_weight=1, subsample=1, tree_method=&#x27;exact&#x27;,\n",
       "             validate_parameters=1, verbosity=None)</pre></div></div></div></div></div></div></div>"
      ],
      "text/plain": [
       "Pipeline(steps=[('',\n",
       "                 FunctionTransformer(func=<function _custom_data_transform at 0x7f9223896950>,\n",
       "                                     kw_args={'cols2keep': ['median_income',\n",
       "                                                            'population_per_household',\n",
       "                                                            'latitude',\n",
       "                                                            'longitude',\n",
       "                                                            'housing_median_age',\n",
       "                                                            'bedrooms_per_room',\n",
       "                                                            'rooms_per_household']})),\n",
       "                ('XGBoost',\n",
       "                 XGBRegressor(base_score=0.5, booster='gbtree',\n",
       "                              colsample_bylevel=1, colsample_bynode=1,\n",
       "                              colsam...\n",
       "                              gamma=0.03, gpu_id=-1, importance_type=None,\n",
       "                              interaction_constraints='', learning_rate=0.1,\n",
       "                              max_delta_step=0, max_depth=3, min_child_weight=6,\n",
       "                              missing=nan, monotone_constraints='()',\n",
       "                              n_estimators=500, n_jobs=14, num_parallel_tree=1,\n",
       "                              predictor='auto', random_state=0, reg_alpha=0,\n",
       "                              reg_lambda=1, scale_pos_weight=1, subsample=1,\n",
       "                              tree_method='exact', validate_parameters=1,\n",
       "                              verbosity=None))])"
      ]
     },
     "execution_count": 143,
     "metadata": {},
     "output_type": "execute_result"
    }
   ],
   "source": [
    "xgb_pipeline_final = Pipeline([\n",
    "    ('', FunctionTransformer(_custom_data_transform, kw_args={'cols2keep':imp_features})),\n",
    "    ('XGBoost', xgb_grid.best_estimator_)\n",
    "])\n",
    "xgb_pipeline_final.fit(train_X, train_y)"
   ]
  },
  {
   "cell_type": "code",
   "execution_count": 144,
   "metadata": {},
   "outputs": [],
   "source": [
    "reg_tree_report = RegressionReport(model=xgb_pipeline_final, x_train=train_X, y_train=train_y, x_test= test_X, y_test= test_y)\n",
    "reg_tree_report.get_report(include_shap=False, file_path='reports/regression_tree_model_report')"
   ]
  },
  {
   "attachments": {},
   "cell_type": "markdown",
   "metadata": {},
   "source": [
    "The Regression report containing the feature importances are available [here](https://drive.google.com/file/d/1JBfL3uxPcxBfl0amweXBFmLr7CSHFBUO/view?usp=sharing)"
   ]
  },
  {
   "attachments": {},
   "cell_type": "markdown",
   "metadata": {},
   "source": [
    "# 5 Model Comparison"
   ]
  },
  {
   "attachments": {},
   "cell_type": "markdown",
   "metadata": {},
   "source": [
    "Now, a comparison report of the  linear (vs) tree -based model  approach can be generated as follows.\n",
    "\n",
    "This code will not be part of the production code."
   ]
  },
  {
   "cell_type": "code",
   "execution_count": 146,
   "metadata": {},
   "outputs": [
    {
     "data": {
      "text/html": [
       "<div>\n",
       "<style scoped>\n",
       "    .dataframe tbody tr th:only-of-type {\n",
       "        vertical-align: middle;\n",
       "    }\n",
       "\n",
       "    .dataframe tbody tr th {\n",
       "        vertical-align: top;\n",
       "    }\n",
       "\n",
       "    .dataframe thead th {\n",
       "        text-align: right;\n",
       "    }\n",
       "</style>\n",
       "<table border=\"1\" class=\"dataframe\">\n",
       "  <thead>\n",
       "    <tr style=\"text-align: right;\">\n",
       "      <th>metric</th>\n",
       "      <th>MAPE</th>\n",
       "      <th>WMAPE</th>\n",
       "      <th>MAE</th>\n",
       "      <th>RMSE</th>\n",
       "      <th>R^2</th>\n",
       "    </tr>\n",
       "  </thead>\n",
       "  <tbody>\n",
       "    <tr>\n",
       "      <th>, Linear Regression</th>\n",
       "      <td>0.3364</td>\n",
       "      <td>0.2646</td>\n",
       "      <td>54834.8123</td>\n",
       "      <td>75223.9787</td>\n",
       "      <td>0.5772</td>\n",
       "    </tr>\n",
       "    <tr>\n",
       "      <th>, XGBoost</th>\n",
       "      <td>0.1629</td>\n",
       "      <td>0.1402</td>\n",
       "      <td>29050.0506</td>\n",
       "      <td>42510.1804</td>\n",
       "      <td>0.8650</td>\n",
       "    </tr>\n",
       "  </tbody>\n",
       "</table>\n",
       "</div>"
      ],
      "text/plain": [
       "metric                 MAPE   WMAPE         MAE        RMSE     R^2\n",
       ", Linear Regression  0.3364  0.2646  54834.8123  75223.9787  0.5772\n",
       ", XGBoost            0.1629  0.1402  29050.0506  42510.1804  0.8650"
      ]
     },
     "execution_count": 146,
     "metadata": {},
     "output_type": "execute_result"
    }
   ],
   "source": [
    "model_comparison_report.performance_metrics"
   ]
  },
  {
   "attachments": {},
   "cell_type": "markdown",
   "metadata": {},
   "source": [
    "A report comparing the performance, metrics between Linear model and Tree model are available [here](https://drive.google.com/file/d/1LDibiFap9K4DKME-Y0S0mtI_05lTdaJF/view?usp=sharing)"
   ]
  },
  {
   "attachments": {},
   "cell_type": "markdown",
   "metadata": {},
   "source": [
    "**Dev NOTES**\n",
    "<details>\n",
    "\n",
    "the above metrics are absolute nos and not %ges"
   ]
  },
  {
   "attachments": {},
   "cell_type": "markdown",
   "metadata": {},
   "source": [
    "In this example we are choosing LM model for pipelining. General criteria for choosing production models is:\n",
    "\n",
    "- Parametric models (aka whitebox models) such as Linear Regression are easier to explain to non-technical audience.\n",
    "- Generally these are accepted fast and adoption is quicker.\n",
    "- If the downstream calls for optimization using these models parametric models are easier to implement.\n",
    "- When accuracy is primary goal without explainability, the above two takes a backseat"
   ]
  },
  {
   "cell_type": "code",
   "execution_count": null,
   "metadata": {},
   "outputs": [],
   "source": []
  }
 ],
 "metadata": {
  "kernelspec": {
   "display_name": "Python 3 (ipykernel)",
   "language": "python",
   "name": "python3"
  },
  "language_info": {
   "codemirror_mode": {
    "name": "ipython",
    "version": 3
   },
   "file_extension": ".py",
   "mimetype": "text/x-python",
   "name": "python",
   "nbconvert_exporter": "python",
   "pygments_lexer": "ipython3",
   "version": "3.9.16"
  }
 },
 "nbformat": 4,
 "nbformat_minor": 4
}
